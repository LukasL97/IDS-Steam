{
 "cells": [
  {
   "cell_type": "code",
   "execution_count": 2,
   "metadata": {},
   "outputs": [
    {
     "name": "stdout",
     "output_type": "stream",
     "text": [
      "    app_id                               name          category  \\\n",
      "0   536280                     Disintegration      Action Games   \n",
      "1   982800                        Moon Tycoon  Simulation Games   \n",
      "2   767960                           Math RTS    Strategy Games   \n",
      "3  1368670  Beach Volleyball Competition 2020      Sports Games   \n",
      "4   977800          At Home Alone - Reward 5$   Adventure Games   \n",
      "\n",
      "                                                tags  \\\n",
      "0  [FPS, PvE, Vehicular Combat, RTS, Shooter, Str...   \n",
      "1  [Strategy, Simulation, Indie, Management, Sing...   \n",
      "2  [Strategy, Indie, Education, RTS, Real-Time, S...   \n",
      "3  [Sports, Action, Arcade, Character Action Game...   \n",
      "4  [Strategy, Adventure, Free to Play, RPG, Indie...   \n",
      "\n",
      "                                     reviews  \\\n",
      "0  {'overall': {'rating': 61, 'count': 120}}   \n",
      "1           {'overall': 'need_more_reviews'}   \n",
      "2           {'overall': 'need_more_reviews'}   \n",
      "3           {'overall': 'need_more_reviews'}   \n",
      "4           {'overall': 'need_more_reviews'}   \n",
      "\n",
      "                                         playtracker  \n",
      "0  {'popularity': 2, 'estimated_players': 159000,...  \n",
      "1                                                NaN  \n",
      "2                                                NaN  \n",
      "3                                                NaN  \n",
      "4                                                NaN  \n",
      "(76221, 6)\n"
     ]
    }
   ],
   "source": [
    "import pandas\n",
    "from tinydb import TinyDB\n",
    "import numpy\n",
    "\n",
    "data = pandas.DataFrame(TinyDB('data/db/db.json').table('games').all())\n",
    "print(data.head())\n",
    "print(data.shape)"
   ]
  },
  {
   "cell_type": "code",
   "execution_count": 3,
   "metadata": {},
   "outputs": [
    {
     "name": "stdout",
     "output_type": "stream",
     "text": [
      "    app_id                               name          category  \\\n",
      "0   536280                     Disintegration      Action Games   \n",
      "1   982800                        Moon Tycoon  Simulation Games   \n",
      "2   767960                           Math RTS    Strategy Games   \n",
      "3  1368670  Beach Volleyball Competition 2020      Sports Games   \n",
      "4   977800          At Home Alone - Reward 5$   Adventure Games   \n",
      "\n",
      "                                                tags  \\\n",
      "0  [FPS, PvE, Vehicular Combat, RTS, Shooter, Str...   \n",
      "1  [Strategy, Simulation, Indie, Management, Sing...   \n",
      "2  [Strategy, Indie, Education, RTS, Real-Time, S...   \n",
      "3  [Sports, Action, Arcade, Character Action Game...   \n",
      "4  [Strategy, Adventure, Free to Play, RPG, Indie...   \n",
      "\n",
      "                                         playtracker  \\\n",
      "0  {'popularity': 2, 'estimated_players': 159000,...   \n",
      "1                                                NaN   \n",
      "2                                                NaN   \n",
      "3                                                NaN   \n",
      "4                                                NaN   \n",
      "\n",
      "                        overall  \n",
      "0  {'rating': 61, 'count': 120}  \n",
      "1                           NaN  \n",
      "2                           NaN  \n",
      "3                           NaN  \n",
      "4                           NaN  \n"
     ]
    }
   ],
   "source": [
    "data.loc[(data['reviews'] == {'overall': 'need_more_reviews'}),'reviews'] = numpy.nan\n",
    "data = pandas.concat([data.drop(['reviews'], axis=1), data['reviews'].apply(pandas.Series)], axis=1)\n",
    "del data[0]\n",
    "del data[\"recent\"]\n",
    "print(data.head())"
   ]
  },
  {
   "cell_type": "code",
   "execution_count": 4,
   "metadata": {},
   "outputs": [
    {
     "name": "stdout",
     "output_type": "stream",
     "text": [
      "    app_id                               name          category  \\\n",
      "0   536280                     Disintegration      Action Games   \n",
      "1   982800                        Moon Tycoon  Simulation Games   \n",
      "2   767960                           Math RTS    Strategy Games   \n",
      "3  1368670  Beach Volleyball Competition 2020      Sports Games   \n",
      "4   977800          At Home Alone - Reward 5$   Adventure Games   \n",
      "\n",
      "                                                tags  \\\n",
      "0  [FPS, PvE, Vehicular Combat, RTS, Shooter, Str...   \n",
      "1  [Strategy, Simulation, Indie, Management, Sing...   \n",
      "2  [Strategy, Indie, Education, RTS, Real-Time, S...   \n",
      "3  [Sports, Action, Arcade, Character Action Game...   \n",
      "4  [Strategy, Adventure, Free to Play, RPG, Indie...   \n",
      "\n",
      "                                         playtracker  review_count  rating  \n",
      "0  {'popularity': 2, 'estimated_players': 159000,...         120.0    61.0  \n",
      "1                                                NaN           NaN     NaN  \n",
      "2                                                NaN           NaN     NaN  \n",
      "3                                                NaN           NaN     NaN  \n",
      "4                                                NaN           NaN     NaN  \n"
     ]
    }
   ],
   "source": [
    "data = pandas.concat([data.drop(['overall'], axis=1), data['overall'].apply(pandas.Series)], axis=1)\n",
    "del data[0]\n",
    "data.rename(columns = {'count':'review_count'}, inplace = True)\n",
    "print(data.head())"
   ]
  },
  {
   "cell_type": "code",
   "execution_count": null,
   "metadata": {
    "pycharm": {
     "is_executing": true
    }
   },
   "outputs": [],
   "source": [
    "# Splitting the dataset into two to make operations for tags easier:\n",
    "game_info = data.copy()\n",
    "del game_info['tags']\n",
    "tags = pandas.concat([data.drop(['tags'], axis=1), data['tags'].apply(pandas.Series)], axis=1)\n",
    "del tags['app_id']\n",
    "del tags['review_count']\n",
    "del tags['rating']\n",
    "del tags['playtracker']\n",
    "# Creating a column for each tag:\n",
    "tags = pandas.get_dummies(tags)\n",
    "tags.rename(columns=lambda x: x.split(\"_\")[1], inplace=True)\n",
    "tags = tags.groupby(level=0, axis=1).sum()\n",
    "print(game_info.head())\n",
    "print(tags.head())"
   ]
  },
  {
   "cell_type": "code",
   "execution_count": null,
   "metadata": {
    "pycharm": {
     "is_executing": true
    }
   },
   "outputs": [],
   "source": [
    "# Merging the tables back together:\n",
    "games = game_info.merge(tags, left_index=True, right_index=True)\n",
    "print(games.head())\n",
    "print(games.shape)"
   ]
  },
  {
   "cell_type": "code",
   "execution_count": null,
   "metadata": {
    "pycharm": {
     "is_executing": true
    }
   },
   "outputs": [],
   "source": [
    "# Checking if the tags seem right for tag \"Strategy\":\n",
    "print(games[\"Strategy\"].head())\n",
    "# They seem to be right."
   ]
  },
  {
   "cell_type": "code",
   "execution_count": null,
   "metadata": {
    "pycharm": {
     "is_executing": true,
     "name": "#%%\n"
    }
   },
   "outputs": [],
   "source": [
    "# Checking for nas:\n",
    "print(games.isnull().sum())\n",
    "# For more than half of the games review data is missing.\n",
    "\n"
   ]
  }
 ],
 "metadata": {
  "kernelspec": {
   "display_name": "Python 3",
   "language": "python",
   "name": "python3"
  },
  "language_info": {
   "codemirror_mode": {
    "name": "ipython",
    "version": 3
   },
   "file_extension": ".py",
   "mimetype": "text/x-python",
   "name": "python",
   "nbconvert_exporter": "python",
   "pygments_lexer": "ipython3",
   "version": "3.8.3"
  }
 },
 "nbformat": 4,
 "nbformat_minor": 4
}