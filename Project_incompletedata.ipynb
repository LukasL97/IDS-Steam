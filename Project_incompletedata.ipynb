{
 "cells": [
  {
   "cell_type": "code",
   "execution_count": 1,
   "metadata": {},
   "outputs": [
    {
     "name": "stdout",
     "output_type": "stream",
     "text": [
      "    app_id                               name          category  \\\n",
      "0   536280                     Disintegration      Action Games   \n",
      "1   982800                        Moon Tycoon  Simulation Games   \n",
      "2   767960                           Math RTS    Strategy Games   \n",
      "3  1368670  Beach Volleyball Competition 2020      Sports Games   \n",
      "4   977800          At Home Alone - Reward 5$   Adventure Games   \n",
      "\n",
      "                                                tags  \\\n",
      "0  [FPS, PvE, Vehicular Combat, RTS, Shooter, Str...   \n",
      "1  [Strategy, Simulation, Indie, Management, Sing...   \n",
      "2  [Strategy, Indie, Education, RTS, Real-Time, S...   \n",
      "3  [Sports, Action, Arcade, Character Action Game...   \n",
      "4  [Strategy, Adventure, Free to Play, RPG, Indie...   \n",
      "\n",
      "                                     reviews  \\\n",
      "0  {'overall': {'rating': 61, 'count': 120}}   \n",
      "1           {'overall': 'need_more_reviews'}   \n",
      "2           {'overall': 'need_more_reviews'}   \n",
      "3           {'overall': 'need_more_reviews'}   \n",
      "4           {'overall': 'need_more_reviews'}   \n",
      "\n",
      "                                         playtracker  \\\n",
      "0  {'popularity': 2, 'estimated_players': 159000,...   \n",
      "1                                                NaN   \n",
      "2                                                NaN   \n",
      "3                                                NaN   \n",
      "4                                                NaN   \n",
      "\n",
      "                                            steamspy  \n",
      "0  {'price': 39.99, 'discount': 0.0, 'release_dat...  \n",
      "1  {'price': 4.99, 'discount': 50.0, 'release_dat...  \n",
      "2  {'price': 4.99, 'discount': 0.0, 'release_date...  \n",
      "3  {'price': 5.99, 'discount': 50.0, 'release_dat...  \n",
      "4  {'price': 4.99, 'discount': 0.0, 'release_date...  \n",
      "(76221, 7)\n"
     ]
    }
   ],
   "source": [
    "import pandas\n",
    "from tinydb import TinyDB\n",
    "import numpy\n",
    "import datetime as dt\n",
    "import matplotlib.pyplot as mat\n",
    "import seaborn as sea\n",
    "import statsmodels.api as sm\n",
    "from sklearn.model_selection import train_test_split\n",
    "from sklearn.linear_model import LinearRegression\n",
    "from sklearn.metrics import mean_squared_error,accuracy_score\n",
    "from sklearn.tree import DecisionTreeRegressor\n",
    "from sklearn.ensemble import RandomForestRegressor\n",
    "\n",
    "data = pandas.DataFrame(TinyDB('data/db/db.json').table('games').all())\n",
    "print(data.head())\n",
    "print(data.shape)"
   ]
  },
  {
   "cell_type": "code",
   "execution_count": 2,
   "metadata": {},
   "outputs": [
    {
     "name": "stdout",
     "output_type": "stream",
     "text": [
      "    app_id                               name          category  \\\n",
      "0   536280                     Disintegration      Action Games   \n",
      "1   982800                        Moon Tycoon  Simulation Games   \n",
      "2   767960                           Math RTS    Strategy Games   \n",
      "3  1368670  Beach Volleyball Competition 2020      Sports Games   \n",
      "4   977800          At Home Alone - Reward 5$   Adventure Games   \n",
      "\n",
      "                                                tags  \\\n",
      "0  [FPS, PvE, Vehicular Combat, RTS, Shooter, Str...   \n",
      "1  [Strategy, Simulation, Indie, Management, Sing...   \n",
      "2  [Strategy, Indie, Education, RTS, Real-Time, S...   \n",
      "3  [Sports, Action, Arcade, Character Action Game...   \n",
      "4  [Strategy, Adventure, Free to Play, RPG, Indie...   \n",
      "\n",
      "                                         playtracker  \\\n",
      "0  {'popularity': 2, 'estimated_players': 159000,...   \n",
      "1                                                NaN   \n",
      "2                                                NaN   \n",
      "3                                                NaN   \n",
      "4                                                NaN   \n",
      "\n",
      "                                            steamspy  \\\n",
      "0  {'price': 39.99, 'discount': 0.0, 'release_dat...   \n",
      "1  {'price': 4.99, 'discount': 50.0, 'release_dat...   \n",
      "2  {'price': 4.99, 'discount': 0.0, 'release_date...   \n",
      "3  {'price': 5.99, 'discount': 50.0, 'release_dat...   \n",
      "4  {'price': 4.99, 'discount': 0.0, 'release_date...   \n",
      "\n",
      "                        overall  \n",
      "0  {'rating': 61, 'count': 120}  \n",
      "1                           NaN  \n",
      "2                           NaN  \n",
      "3                           NaN  \n",
      "4                           NaN  \n"
     ]
    }
   ],
   "source": [
    "# Replacing placeholder value in review data with NaN:\n",
    "data.loc[(data['reviews'] == {'overall': 'need_more_reviews'}),'reviews'] = numpy.nan\n",
    "# Splitting review data into overall and recent:\n",
    "data = pandas.concat([data.drop(['reviews'], axis=1), data['reviews'].apply(pandas.Series)], axis=1)\n",
    "del data[0]\n",
    "# Getting rid of recent review data as it is not needed:\n",
    "del data[\"recent\"]\n",
    "print(data.head())"
   ]
  },
  {
   "cell_type": "code",
   "execution_count": 3,
   "metadata": {},
   "outputs": [
    {
     "name": "stdout",
     "output_type": "stream",
     "text": [
      "    app_id                               name          category  \\\n",
      "0   536280                     Disintegration      Action Games   \n",
      "1   982800                        Moon Tycoon  Simulation Games   \n",
      "2   767960                           Math RTS    Strategy Games   \n",
      "3  1368670  Beach Volleyball Competition 2020      Sports Games   \n",
      "4   977800          At Home Alone - Reward 5$   Adventure Games   \n",
      "\n",
      "                                                tags  \\\n",
      "0  [FPS, PvE, Vehicular Combat, RTS, Shooter, Str...   \n",
      "1  [Strategy, Simulation, Indie, Management, Sing...   \n",
      "2  [Strategy, Indie, Education, RTS, Real-Time, S...   \n",
      "3  [Sports, Action, Arcade, Character Action Game...   \n",
      "4  [Strategy, Adventure, Free to Play, RPG, Indie...   \n",
      "\n",
      "                                         playtracker  \\\n",
      "0  {'popularity': 2, 'estimated_players': 159000,...   \n",
      "1                                                NaN   \n",
      "2                                                NaN   \n",
      "3                                                NaN   \n",
      "4                                                NaN   \n",
      "\n",
      "                                            steamspy  review_count  rating  \n",
      "0  {'price': 39.99, 'discount': 0.0, 'release_dat...         120.0    61.0  \n",
      "1  {'price': 4.99, 'discount': 50.0, 'release_dat...           NaN     NaN  \n",
      "2  {'price': 4.99, 'discount': 0.0, 'release_date...           NaN     NaN  \n",
      "3  {'price': 5.99, 'discount': 50.0, 'release_dat...           NaN     NaN  \n",
      "4  {'price': 4.99, 'discount': 0.0, 'release_date...           NaN     NaN  \n"
     ]
    }
   ],
   "source": [
    "# Splitting overall review data into two columns:\n",
    "data = pandas.concat([data.drop(['overall'], axis=1), data['overall'].apply(pandas.Series)], axis=1)\n",
    "del data[0]\n",
    "data.rename(columns = {'count':'review_count'}, inplace = True)\n",
    "print(data.head())"
   ]
  },
  {
   "cell_type": "code",
   "execution_count": 4,
   "metadata": {},
   "outputs": [
    {
     "name": "stdout",
     "output_type": "stream",
     "text": [
      "    app_id                               name          category  \\\n",
      "0   536280                     Disintegration      Action Games   \n",
      "1   982800                        Moon Tycoon  Simulation Games   \n",
      "2   767960                           Math RTS    Strategy Games   \n",
      "3  1368670  Beach Volleyball Competition 2020      Sports Games   \n",
      "4   977800          At Home Alone - Reward 5$   Adventure Games   \n",
      "\n",
      "                                                tags  \\\n",
      "0  [FPS, PvE, Vehicular Combat, RTS, Shooter, Str...   \n",
      "1  [Strategy, Simulation, Indie, Management, Sing...   \n",
      "2  [Strategy, Indie, Education, RTS, Real-Time, S...   \n",
      "3  [Sports, Action, Arcade, Character Action Game...   \n",
      "4  [Strategy, Adventure, Free to Play, RPG, Indie...   \n",
      "\n",
      "                                            steamspy  review_count  rating  \\\n",
      "0  {'price': 39.99, 'discount': 0.0, 'release_dat...         120.0    61.0   \n",
      "1  {'price': 4.99, 'discount': 50.0, 'release_dat...           NaN     NaN   \n",
      "2  {'price': 4.99, 'discount': 0.0, 'release_date...           NaN     NaN   \n",
      "3  {'price': 5.99, 'discount': 50.0, 'release_dat...           NaN     NaN   \n",
      "4  {'price': 4.99, 'discount': 0.0, 'release_date...           NaN     NaN   \n",
      "\n",
      "   average_playtime  estimated_active_players  estimated_players  popularity  \n",
      "0               0.6                   25000.0           159000.0         2.0  \n",
      "1               NaN                       NaN                NaN         NaN  \n",
      "2               NaN                       NaN                NaN         NaN  \n",
      "3               NaN                       NaN                NaN         NaN  \n",
      "4               NaN                       NaN                NaN         NaN  \n"
     ]
    }
   ],
   "source": [
    "# Splitting playtracker into multiple columns:\n",
    "data = pandas.concat([data.drop(['playtracker'], axis=1), data['playtracker'].apply(pandas.Series)], axis=1)\n",
    "del data[0]\n",
    "print(data.head())"
   ]
  },
  {
   "cell_type": "code",
   "execution_count": 5,
   "metadata": {},
   "outputs": [
    {
     "name": "stdout",
     "output_type": "stream",
     "text": [
      "    app_id                               name  \\\n",
      "0   536280                     Disintegration   \n",
      "1   982800                        Moon Tycoon   \n",
      "2   767960                           Math RTS   \n",
      "3  1368670  Beach Volleyball Competition 2020   \n",
      "4   977800          At Home Alone - Reward 5$   \n",
      "\n",
      "                                                tags  \\\n",
      "0  [FPS, PvE, Vehicular Combat, RTS, Shooter, Str...   \n",
      "1  [Strategy, Simulation, Indie, Management, Sing...   \n",
      "2  [Strategy, Indie, Education, RTS, Real-Time, S...   \n",
      "3  [Sports, Action, Arcade, Character Action Game...   \n",
      "4  [Strategy, Adventure, Free to Play, RPG, Indie...   \n",
      "\n",
      "                                            steamspy  review_count  rating  \\\n",
      "0  {'price': 39.99, 'discount': 0.0, 'release_dat...         120.0    61.0   \n",
      "1  {'price': 4.99, 'discount': 50.0, 'release_dat...           NaN     NaN   \n",
      "2  {'price': 4.99, 'discount': 0.0, 'release_date...           NaN     NaN   \n",
      "3  {'price': 5.99, 'discount': 50.0, 'release_dat...           NaN     NaN   \n",
      "4  {'price': 4.99, 'discount': 0.0, 'release_date...           NaN     NaN   \n",
      "\n",
      "   average_playtime  estimated_active_players  estimated_players  popularity  \\\n",
      "0               0.6                   25000.0           159000.0         2.0   \n",
      "1               NaN                       NaN                NaN         NaN   \n",
      "2               NaN                       NaN                NaN         NaN   \n",
      "3               NaN                       NaN                NaN         NaN   \n",
      "4               NaN                       NaN                NaN         NaN   \n",
      "\n",
      "   ...  category_Violent Games  category_Warhammer Franchise  \\\n",
      "0  ...                       0                             0   \n",
      "1  ...                       0                             0   \n",
      "2  ...                       0                             0   \n",
      "3  ...                       0                             0   \n",
      "4  ...                       0                             0   \n",
      "\n",
      "   category_Web Publishing  category_Web Publishing Games  \\\n",
      "0                        0                              0   \n",
      "1                        0                              0   \n",
      "2                        0                              0   \n",
      "3                        0                              0   \n",
      "4                        0                              0   \n",
      "\n",
      "   category_Wing IDE 5  category_Yomawari: Night Alone  category_Zenza  \\\n",
      "0                    0                               0               0   \n",
      "1                    0                               0               0   \n",
      "2                    0                               0               0   \n",
      "3                    0                               0               0   \n",
      "4                    0                               0               0   \n",
      "\n",
      "   category_Zodiac Interactive Franchise  category_tinyBuild Franchise  \\\n",
      "0                                      0                             0   \n",
      "1                                      0                             0   \n",
      "2                                      0                             0   \n",
      "3                                      0                             0   \n",
      "4                                      0                             0   \n",
      "\n",
      "   category_unknown  \n",
      "0                 0  \n",
      "1                 0  \n",
      "2                 0  \n",
      "3                 0  \n",
      "4                 0  \n",
      "\n",
      "[5 rows x 125 columns]\n"
     ]
    }
   ],
   "source": [
    "# Splitting categories into multiple columns:\n",
    "cat = pandas.DataFrame(data[\"category\"])\n",
    "cat = pandas.get_dummies(cat)\n",
    "# Merging back together:\n",
    "del data[\"category\"]\n",
    "data = data.merge(cat, left_index=True, right_index=True)\n",
    "print(data.head())"
   ]
  },
  {
   "cell_type": "code",
   "execution_count": 6,
   "metadata": {
    "pycharm": {
     "is_executing": true
    }
   },
   "outputs": [
    {
     "name": "stdout",
     "output_type": "stream",
     "text": [
      "    app_id                               name  \\\n",
      "0   536280                     Disintegration   \n",
      "1   982800                        Moon Tycoon   \n",
      "2   767960                           Math RTS   \n",
      "3  1368670  Beach Volleyball Competition 2020   \n",
      "4   977800          At Home Alone - Reward 5$   \n",
      "\n",
      "                                            steamspy  review_count  rating  \\\n",
      "0  {'price': 39.99, 'discount': 0.0, 'release_dat...         120.0    61.0   \n",
      "1  {'price': 4.99, 'discount': 50.0, 'release_dat...           NaN     NaN   \n",
      "2  {'price': 4.99, 'discount': 0.0, 'release_date...           NaN     NaN   \n",
      "3  {'price': 5.99, 'discount': 50.0, 'release_dat...           NaN     NaN   \n",
      "4  {'price': 4.99, 'discount': 0.0, 'release_date...           NaN     NaN   \n",
      "\n",
      "   average_playtime  estimated_active_players  estimated_players  popularity  \\\n",
      "0               0.6                   25000.0           159000.0         2.0   \n",
      "1               NaN                       NaN                NaN         NaN   \n",
      "2               NaN                       NaN                NaN         NaN   \n",
      "3               NaN                       NaN                NaN         NaN   \n",
      "4               NaN                       NaN                NaN         NaN   \n",
      "\n",
      "   category_- Arcane Raise -  ...  category_Violent Games  \\\n",
      "0                          0  ...                       0   \n",
      "1                          0  ...                       0   \n",
      "2                          0  ...                       0   \n",
      "3                          0  ...                       0   \n",
      "4                          0  ...                       0   \n",
      "\n",
      "   category_Warhammer Franchise  category_Web Publishing  \\\n",
      "0                             0                        0   \n",
      "1                             0                        0   \n",
      "2                             0                        0   \n",
      "3                             0                        0   \n",
      "4                             0                        0   \n",
      "\n",
      "   category_Web Publishing Games  category_Wing IDE 5  \\\n",
      "0                              0                    0   \n",
      "1                              0                    0   \n",
      "2                              0                    0   \n",
      "3                              0                    0   \n",
      "4                              0                    0   \n",
      "\n",
      "   category_Yomawari: Night Alone  category_Zenza  \\\n",
      "0                               0               0   \n",
      "1                               0               0   \n",
      "2                               0               0   \n",
      "3                               0               0   \n",
      "4                               0               0   \n",
      "\n",
      "   category_Zodiac Interactive Franchise  category_tinyBuild Franchise  \\\n",
      "0                                      0                             0   \n",
      "1                                      0                             0   \n",
      "2                                      0                             0   \n",
      "3                                      0                             0   \n",
      "4                                      0                             0   \n",
      "\n",
      "   category_unknown  \n",
      "0                 0  \n",
      "1                 0  \n",
      "2                 0  \n",
      "3                 0  \n",
      "4                 0  \n",
      "\n",
      "[5 rows x 124 columns]\n",
      "   tag_1980s  tag_1990's  tag_2.5D  tag_2D  tag_2D Fighter  tag_2D Platformer  \\\n",
      "0          0           0         0       0               0                  0   \n",
      "1          0           0         0       0               0                  0   \n",
      "2          0           0         0       0               0                  0   \n",
      "3          0           0         1       1               0                  0   \n",
      "4          0           0         0       0               0                  0   \n",
      "\n",
      "   tag_360 Video  tag_3D  tag_3D Fighter  tag_3D Platformer  ...  \\\n",
      "0              0       0               0                  0  ...   \n",
      "1              0       0               0                  0  ...   \n",
      "2              0       0               0                  0  ...   \n",
      "3              0       0               0                  0  ...   \n",
      "4              0       0               0                  0  ...   \n",
      "\n",
      "   tag_Web Publishing  tag_Well-Written  tag_Werewolves  tag_Western  \\\n",
      "0                   0                 0               0            0   \n",
      "1                   0                 0               0            0   \n",
      "2                   0                 0               0            0   \n",
      "3                   0                 0               0            0   \n",
      "4                   0                 0               0            0   \n",
      "\n",
      "   tag_Word Game  tag_World War I  tag_World War II  tag_Wrestling  \\\n",
      "0              0                0                 0              0   \n",
      "1              0                0                 0              0   \n",
      "2              0                0                 0              0   \n",
      "3              0                0                 0              0   \n",
      "4              0                0                 0              0   \n",
      "\n",
      "   tag_Zombies  tag_eSports  \n",
      "0            0            0  \n",
      "1            0            0  \n",
      "2            0            0  \n",
      "3            0            0  \n",
      "4            0            0  \n",
      "\n",
      "[5 rows x 422 columns]\n"
     ]
    }
   ],
   "source": [
    "# Splitting the dataset into two to make operations for tags easier:\n",
    "game_info = data.copy()\n",
    "del game_info['tags']\n",
    "tags = pandas.DataFrame(data['tags'])\n",
    "# Creating a column for each tag:\n",
    "tags = pandas.concat([tags.drop(['tags'], axis=1), tags['tags'].apply(pandas.Series)], axis=1)\n",
    "tags = pandas.get_dummies(tags)\n",
    "tags.rename(columns=lambda x: x.split(\"_\")[1], inplace=True)\n",
    "tags.rename(columns=lambda x: 'tag_' + x, inplace=True)\n",
    "tags = tags.groupby(level=0, axis=1).sum()\n",
    "print(game_info.head())\n",
    "print(tags.head())"
   ]
  },
  {
   "cell_type": "code",
   "execution_count": 7,
   "metadata": {
    "pycharm": {
     "is_executing": true
    }
   },
   "outputs": [
    {
     "name": "stdout",
     "output_type": "stream",
     "text": [
      "    app_id                               name  \\\n",
      "0   536280                     Disintegration   \n",
      "1   982800                        Moon Tycoon   \n",
      "2   767960                           Math RTS   \n",
      "3  1368670  Beach Volleyball Competition 2020   \n",
      "4   977800          At Home Alone - Reward 5$   \n",
      "\n",
      "                                            steamspy  review_count  rating  \\\n",
      "0  {'price': 39.99, 'discount': 0.0, 'release_dat...         120.0    61.0   \n",
      "1  {'price': 4.99, 'discount': 50.0, 'release_dat...           NaN     NaN   \n",
      "2  {'price': 4.99, 'discount': 0.0, 'release_date...           NaN     NaN   \n",
      "3  {'price': 5.99, 'discount': 50.0, 'release_dat...           NaN     NaN   \n",
      "4  {'price': 4.99, 'discount': 0.0, 'release_date...           NaN     NaN   \n",
      "\n",
      "   average_playtime  estimated_active_players  estimated_players  popularity  \\\n",
      "0               0.6                   25000.0           159000.0         2.0   \n",
      "1               NaN                       NaN                NaN         NaN   \n",
      "2               NaN                       NaN                NaN         NaN   \n",
      "3               NaN                       NaN                NaN         NaN   \n",
      "4               NaN                       NaN                NaN         NaN   \n",
      "\n",
      "   category_- Arcane Raise -  ...  tag_Web Publishing  tag_Well-Written  \\\n",
      "0                          0  ...                   0                 0   \n",
      "1                          0  ...                   0                 0   \n",
      "2                          0  ...                   0                 0   \n",
      "3                          0  ...                   0                 0   \n",
      "4                          0  ...                   0                 0   \n",
      "\n",
      "   tag_Werewolves  tag_Western  tag_Word Game  tag_World War I  \\\n",
      "0               0            0              0                0   \n",
      "1               0            0              0                0   \n",
      "2               0            0              0                0   \n",
      "3               0            0              0                0   \n",
      "4               0            0              0                0   \n",
      "\n",
      "   tag_World War II  tag_Wrestling  tag_Zombies  tag_eSports  \n",
      "0                 0              0            0            0  \n",
      "1                 0              0            0            0  \n",
      "2                 0              0            0            0  \n",
      "3                 0              0            0            0  \n",
      "4                 0              0            0            0  \n",
      "\n",
      "[5 rows x 546 columns]\n",
      "(76221, 546)\n"
     ]
    }
   ],
   "source": [
    "# Merging the tables back together:\n",
    "games = game_info.merge(tags, left_index=True, right_index=True)\n",
    "print(games.head())\n",
    "print(games.shape)"
   ]
  },
  {
   "cell_type": "code",
   "execution_count": 8,
   "metadata": {
    "pycharm": {
     "is_executing": true
    }
   },
   "outputs": [
    {
     "name": "stdout",
     "output_type": "stream",
     "text": [
      "0    1\n",
      "1    1\n",
      "2    1\n",
      "3    0\n",
      "4    1\n",
      "Name: tag_Strategy, dtype: uint8\n"
     ]
    }
   ],
   "source": [
    "# Checking if the tags seem right for tag \"Strategy\":\n",
    "print(games[\"tag_Strategy\"].head())\n",
    "# They seem to be right."
   ]
  },
  {
   "cell_type": "code",
   "execution_count": 9,
   "metadata": {},
   "outputs": [
    {
     "name": "stdout",
     "output_type": "stream",
     "text": [
      "    app_id                               name  review_count  rating  \\\n",
      "0   536280                     Disintegration         120.0    61.0   \n",
      "1   982800                        Moon Tycoon           NaN     NaN   \n",
      "2   767960                           Math RTS           NaN     NaN   \n",
      "3  1368670  Beach Volleyball Competition 2020           NaN     NaN   \n",
      "4   977800          At Home Alone - Reward 5$           NaN     NaN   \n",
      "\n",
      "   average_playtime  estimated_active_players  estimated_players  popularity  \\\n",
      "0               0.6                   25000.0           159000.0         2.0   \n",
      "1               NaN                       NaN                NaN         NaN   \n",
      "2               NaN                       NaN                NaN         NaN   \n",
      "3               NaN                       NaN                NaN         NaN   \n",
      "4               NaN                       NaN                NaN         NaN   \n",
      "\n",
      "   category_- Arcane Raise -  category_Action  ...  tag_Western  \\\n",
      "0                          0                0  ...            0   \n",
      "1                          0                0  ...            0   \n",
      "2                          0                0  ...            0   \n",
      "3                          0                0  ...            0   \n",
      "4                          0                0  ...            0   \n",
      "\n",
      "   tag_Word Game  tag_World War I  tag_World War II  tag_Wrestling  \\\n",
      "0              0                0                 0              0   \n",
      "1              0                0                 0              0   \n",
      "2              0                0                 0              0   \n",
      "3              0                0                 0              0   \n",
      "4              0                0                 0              0   \n",
      "\n",
      "   tag_Zombies  tag_eSports  price  discount  \\\n",
      "0            0            0  39.99       0.0   \n",
      "1            0            0   4.99      50.0   \n",
      "2            0            0   4.99       0.0   \n",
      "3            0            0   5.99      50.0   \n",
      "4            0            0   4.99       0.0   \n",
      "\n",
      "                             release_date  \n",
      "0   {'day': 15, 'month': 6, 'year': 2020}  \n",
      "1   {'day': 1, 'month': 10, 'year': 2001}  \n",
      "2    {'day': 7, 'month': 1, 'year': 2018}  \n",
      "3   {'day': 13, 'month': 8, 'year': 2020}  \n",
      "4  {'day': 27, 'month': 12, 'year': 2018}  \n",
      "\n",
      "[5 rows x 548 columns]\n"
     ]
    }
   ],
   "source": [
    "# Splitting steamspy data into multiple columns:\n",
    "games = pandas.concat([games.drop(['steamspy'], axis=1), games['steamspy'].apply(pandas.Series)], axis=1)\n",
    "print(games.head())"
   ]
  },
  {
   "cell_type": "code",
   "execution_count": 10,
   "metadata": {},
   "outputs": [
    {
     "name": "stdout",
     "output_type": "stream",
     "text": [
      "app_id                     0\n",
      "name                       0\n",
      "review_count           43741\n",
      "rating                 43741\n",
      "average_playtime       56230\n",
      "                       ...  \n",
      "day                     6139\n",
      "month                   6139\n",
      "year                    6139\n",
      "release_date            6139\n",
      "years_since_release     6139\n",
      "Length: 553, dtype: int64\n",
      "    app_id                               name  review_count  rating  \\\n",
      "0   536280                     Disintegration         120.0    61.0   \n",
      "1   982800                        Moon Tycoon           NaN     NaN   \n",
      "2   767960                           Math RTS           NaN     NaN   \n",
      "3  1368670  Beach Volleyball Competition 2020           NaN     NaN   \n",
      "4   977800          At Home Alone - Reward 5$           NaN     NaN   \n",
      "\n",
      "   average_playtime  estimated_active_players  estimated_players  popularity  \\\n",
      "0               0.6                   25000.0           159000.0         2.0   \n",
      "1               NaN                       NaN                NaN         NaN   \n",
      "2               NaN                       NaN                NaN         NaN   \n",
      "3               NaN                       NaN                NaN         NaN   \n",
      "4               NaN                       NaN                NaN         NaN   \n",
      "\n",
      "   category_- Arcane Raise -  category_Action  ...  tag_Word Game  \\\n",
      "0                          0                0  ...              0   \n",
      "1                          0                0  ...              0   \n",
      "2                          0                0  ...              0   \n",
      "3                          0                0  ...              0   \n",
      "4                          0                0  ...              0   \n",
      "\n",
      "   tag_World War I  tag_World War II  tag_Wrestling  tag_Zombies  tag_eSports  \\\n",
      "0                0                 0              0            0            0   \n",
      "1                0                 0              0            0            0   \n",
      "2                0                 0              0            0            0   \n",
      "3                0                 0              0            0            0   \n",
      "4                0                 0              0            0            0   \n",
      "\n",
      "   price  discount  release_date  years_since_release  \n",
      "0  39.99       0.0    2020-06-15             0.249315  \n",
      "1   4.99      50.0    2001-10-01            18.967123  \n",
      "2   4.99       0.0    2018-01-07             2.687671  \n",
      "3   5.99      50.0    2020-08-13             0.087671  \n",
      "4   4.99       0.0    2018-12-27             1.717808  \n",
      "\n",
      "[5 rows x 549 columns]\n"
     ]
    }
   ],
   "source": [
    "games = pandas.concat([games.drop(['release_date'], axis=1), games['release_date'].apply(pandas.Series)], axis=1)\n",
    "games['release_date'] = pandas.to_datetime(games[['year', 'month', 'day']])\n",
    "games['years_since_release'] = ((pandas.to_datetime(\"2020-09-14\") - games['release_date']).dt.days) / 365\n",
    "# Checking whether there are missing values (especially for date values):\n",
    "print(games.isnull().sum())\n",
    "# For more than half of the games review data is missing. For playtracker data even more.\n",
    "# Since the number of missing values are the same for day, month and year, there's no need to impute one of them:\n",
    "del games[0]\n",
    "del games['year']\n",
    "del games['month']\n",
    "del games['day']\n",
    "print(games.head())"
   ]
  },
  {
   "cell_type": "code",
   "execution_count": 11,
   "metadata": {},
   "outputs": [
    {
     "name": "stdout",
     "output_type": "stream",
     "text": [
      "39154\n"
     ]
    }
   ],
   "source": [
    "# Investigating if nas in playtracker are in the same places as in review data:\n",
    "games['both_na'] = numpy.where(((games['estimated_players'].isnull()) & (games['rating'].isnull())), 1, 0)\n",
    "print(sum(games['both_na']))"
   ]
  },
  {
   "cell_type": "code",
   "execution_count": 12,
   "metadata": {},
   "outputs": [
    {
     "name": "stdout",
     "output_type": "stream",
     "text": [
      "app_id                     0\n",
      "name                       0\n",
      "review_count            4587\n",
      "rating                  4587\n",
      "average_playtime       17076\n",
      "                       ...  \n",
      "tag_eSports                0\n",
      "price                   9576\n",
      "discount                9576\n",
      "release_date            6139\n",
      "years_since_release     6139\n",
      "Length: 549, dtype: int64\n"
     ]
    }
   ],
   "source": [
    "# It can be concluded that those are games that do not have any players:\n",
    "games['estimated_players'] = games.apply(lambda x : x['estimated_players'] if x['both_na'] == 0 else 0, axis=1)\n",
    "games['estimated_active_players'] = games.apply(lambda x : x['estimated_active_players'] if x['both_na'] == 0 else 0, axis=1)\n",
    "games['average_playtime'] = games.apply(lambda x : x['average_playtime'] if x['both_na'] == 0 else 0, axis=1)\n",
    "games['popularity'] = games.apply(lambda x : x['popularity'] if x['both_na'] == 0 else 0.0, axis=1)\n",
    "games['rating'] = games.apply(lambda x : x['rating'] if x['both_na'] == 0 else 0.0, axis=1)\n",
    "games['review_count'] = games.apply(lambda x : x['review_count'] if x['both_na'] == 0 else 0.0, axis=1)\n",
    "del games['both_na']\n",
    "print(games.isnull().sum())\n",
    "# The quantity of nas was reduced by a considerable amount."
   ]
  },
  {
   "cell_type": "code",
   "execution_count": 13,
   "metadata": {},
   "outputs": [
    {
     "name": "stdout",
     "output_type": "stream",
     "text": [
      "app_id                    0\n",
      "name                      0\n",
      "review_count              0\n",
      "rating                    0\n",
      "average_playtime          0\n",
      "                       ... \n",
      "tag_eSports               0\n",
      "price                  8317\n",
      "discount               8317\n",
      "release_date           5707\n",
      "years_since_release    5707\n",
      "Length: 549, dtype: int64\n",
      "app_id                 0\n",
      "name                   0\n",
      "review_count           0\n",
      "rating                 0\n",
      "average_playtime       0\n",
      "                      ..\n",
      "tag_eSports            0\n",
      "price                  0\n",
      "discount               0\n",
      "release_date           0\n",
      "years_since_release    0\n",
      "Length: 549, dtype: int64\n"
     ]
    }
   ],
   "source": [
    "# Dropping the rows where 'estimated_players' is na as it is the variable we want to predict.\n",
    "games = games[games['estimated_players'].notna()]\n",
    "# Dropping the rows where 'rating' is na as well as those are online about 4500 and would \n",
    "# hinder our predictions otherwise:\n",
    "games = games[games['rating'].notna()]\n",
    "print(games.isnull().sum())\n",
    "# There are still quite a few missing values in the former steamspy data. Where the release that is given, the\n",
    "# price and discount will simply be imputed with the mean values. The rows where the release date is missing will be\n",
    "# dropped as the release date is an important indicator for the number of players.\n",
    "games = games[games['release_date'].notna()]\n",
    "games['price'].fillna(games['price'].mean(), inplace=True)\n",
    "games['discount'].fillna(games['discount'].mean(), inplace=True)\n",
    "print(games.isnull().sum())"
   ]
  },
  {
   "cell_type": "code",
   "execution_count": 14,
   "metadata": {},
   "outputs": [
    {
     "name": "stdout",
     "output_type": "stream",
     "text": [
      "       review_count        rating  average_playtime  estimated_active_players  \\\n",
      "count  4.885100e+04  48851.000000      48851.000000              4.885100e+04   \n",
      "mean   4.550175e+02     23.209310          1.180357              9.439766e+03   \n",
      "std    8.930217e+03     35.928915          5.649756              8.105955e+04   \n",
      "min    0.000000e+00      0.000000          0.000000              0.000000e+00   \n",
      "25%    0.000000e+00      0.000000          0.000000              0.000000e+00   \n",
      "50%    0.000000e+00      0.000000          0.000000              0.000000e+00   \n",
      "75%    2.300000e+01     60.000000          0.400000              1.000000e+03   \n",
      "max    1.296235e+06    100.000000        284.600000              8.000000e+06   \n",
      "\n",
      "       estimated_players    popularity  category_- Arcane Raise -  \\\n",
      "count       4.885100e+04  48851.000000               48851.000000   \n",
      "mean        1.371055e+05      1.077460                   0.000020   \n",
      "std         5.275239e+05      4.667733                   0.004524   \n",
      "min         0.000000e+00      0.000000                   0.000000   \n",
      "25%         0.000000e+00      0.000000                   0.000000   \n",
      "50%         0.000000e+00      0.000000                   0.000000   \n",
      "75%         2.100000e+04      0.000000                   0.000000   \n",
      "max         2.140000e+07    205.000000                   1.000000   \n",
      "\n",
      "       category_Action  category_Action Games  category_Adventure  ...  \\\n",
      "count     48851.000000           48851.000000        48851.000000  ...   \n",
      "mean          0.000041               0.244540            0.000102  ...   \n",
      "std           0.006398               0.429818            0.010117  ...   \n",
      "min           0.000000               0.000000            0.000000  ...   \n",
      "25%           0.000000               0.000000            0.000000  ...   \n",
      "50%           0.000000               0.000000            0.000000  ...   \n",
      "75%           0.000000               0.000000            0.000000  ...   \n",
      "max           1.000000               1.000000            1.000000  ...   \n",
      "\n",
      "        tag_Western  tag_Word Game  tag_World War I  tag_World War II  \\\n",
      "count  48851.000000   48851.000000     48851.000000      48851.000000   \n",
      "mean       0.002620       0.002436         0.001085          0.006284   \n",
      "std        0.051121       0.049296         0.032921          0.079026   \n",
      "min        0.000000       0.000000         0.000000          0.000000   \n",
      "25%        0.000000       0.000000         0.000000          0.000000   \n",
      "50%        0.000000       0.000000         0.000000          0.000000   \n",
      "75%        0.000000       0.000000         0.000000          0.000000   \n",
      "max        1.000000       1.000000         1.000000          1.000000   \n",
      "\n",
      "       tag_Wrestling   tag_Zombies   tag_eSports         price      discount  \\\n",
      "count   48851.000000  48851.000000  48851.000000  48851.000000  48851.000000   \n",
      "mean        0.000368      0.015496      0.002641      7.209864      2.957588   \n",
      "std         0.019192      0.123516      0.051320     12.938905     11.641083   \n",
      "min         0.000000      0.000000      0.000000      0.000000      0.000000   \n",
      "25%         0.000000      0.000000      0.000000      1.690000      0.000000   \n",
      "50%         0.000000      0.000000      0.000000      4.990000      0.000000   \n",
      "75%         0.000000      0.000000      0.000000      9.990000      0.000000   \n",
      "max         1.000000      1.000000      1.000000    999.000000    100.000000   \n",
      "\n",
      "       years_since_release  \n",
      "count         48851.000000  \n",
      "mean              2.876974  \n",
      "std               2.900241  \n",
      "min             -19.304110  \n",
      "25%               0.969863  \n",
      "50%               2.279452  \n",
      "75%               3.928767  \n",
      "max              50.232877  \n",
      "\n",
      "[8 rows x 546 columns]\n"
     ]
    }
   ],
   "source": [
    "# Get summary for a number of columns (most of categories and tags left out):\n",
    "print(games.describe())\n",
    "# It's visible that for the playtracker and review data more than 50% have the value 0. This\n",
    "# is a consequence of the imputation. But as mentioned, it is assumed that the data was missing\n",
    "# because these were games that no one plays.\n",
    "# It's also visible that most games have no discount (75% quantil still 0) and most of them are \n",
    "# relatively new."
   ]
  },
  {
   "cell_type": "code",
   "execution_count": 15,
   "metadata": {},
   "outputs": [
    {
     "name": "stdout",
     "output_type": "stream",
     "text": [
      "        app_id                                            name  review_count  \\\n",
      "235    1291037         Simplode Suite - Basic Power Management           0.0   \n",
      "278    1137390                                   Kyber Knights           0.0   \n",
      "311    1366620                            Nyanroo The Supercat           0.0   \n",
      "323    1339340                             The Unbeatable Path           0.0   \n",
      "420     970830  The Dungeon Of Naheulbeuk: The Amulet Of Chaos           0.0   \n",
      "...        ...                                             ...           ...   \n",
      "75596  1389850                                Digital Janitors           0.0   \n",
      "75686   720560                        Vigil: The Longest Night           0.0   \n",
      "75862   583750                                     Skyclimbers           0.0   \n",
      "76046  1389440                                 Call of Knights           0.0   \n",
      "76070   912900                                  Bunker Defense           0.0   \n",
      "\n",
      "       rating  average_playtime  estimated_active_players  estimated_players  \\\n",
      "235       0.0               0.0                       0.0                0.0   \n",
      "278       0.0               0.0                       0.0                0.0   \n",
      "311       0.0               0.0                       0.0                0.0   \n",
      "323       0.0               0.0                       0.0                0.0   \n",
      "420       0.0               0.0                       0.0                0.0   \n",
      "...       ...               ...                       ...                ...   \n",
      "75596     0.0               0.0                       0.0                0.0   \n",
      "75686     0.0               0.0                       0.0                0.0   \n",
      "75862     0.0               0.0                       0.0                0.0   \n",
      "76046     0.0               0.0                       0.0                0.0   \n",
      "76070     0.0               0.0                       0.0                0.0   \n",
      "\n",
      "       popularity  category_- Arcane Raise -  category_Action  ...  \\\n",
      "235           0.0                          0                0  ...   \n",
      "278           0.0                          0                0  ...   \n",
      "311           0.0                          0                0  ...   \n",
      "323           0.0                          0                0  ...   \n",
      "420           0.0                          0                0  ...   \n",
      "...           ...                        ...              ...  ...   \n",
      "75596         0.0                          0                0  ...   \n",
      "75686         0.0                          0                0  ...   \n",
      "75862         0.0                          0                0  ...   \n",
      "76046         0.0                          0                0  ...   \n",
      "76070         0.0                          0                0  ...   \n",
      "\n",
      "       tag_Word Game  tag_World War I  tag_World War II  tag_Wrestling  \\\n",
      "235                0                0                 0              0   \n",
      "278                0                0                 0              0   \n",
      "311                0                0                 0              0   \n",
      "323                0                0                 0              0   \n",
      "420                0                0                 0              0   \n",
      "...              ...              ...               ...            ...   \n",
      "75596              0                0                 0              0   \n",
      "75686              0                0                 0              0   \n",
      "75862              0                0                 0              0   \n",
      "76046              0                0                 0              0   \n",
      "76070              0                0                 0              0   \n",
      "\n",
      "       tag_Zombies  tag_eSports      price  discount  release_date  \\\n",
      "235              0            0   7.209864  2.957588    2020-09-17   \n",
      "278              0            0   7.209864  2.957588    2021-12-01   \n",
      "311              0            0   0.000000  0.000000    2021-12-06   \n",
      "323              0            0   7.209864  2.957588    2022-06-09   \n",
      "420              0            0  34.990000  0.000000    2020-09-17   \n",
      "...            ...          ...        ...       ...           ...   \n",
      "75596            0            0   7.209864  2.957588    2020-12-31   \n",
      "75686            0            0   7.209864  2.957588    2020-10-14   \n",
      "75862            0            0   7.209864  2.957588    2021-01-01   \n",
      "76046            0            0   7.209864  2.957588    2021-06-28   \n",
      "76070            0            0   7.209864  2.957588    2020-10-14   \n",
      "\n",
      "       years_since_release  \n",
      "235              -0.008219  \n",
      "278              -1.213699  \n",
      "311              -1.227397  \n",
      "323              -1.734247  \n",
      "420              -0.008219  \n",
      "...                    ...  \n",
      "75596            -0.295890  \n",
      "75686            -0.082192  \n",
      "75862            -0.298630  \n",
      "76046            -0.786301  \n",
      "76070            -0.082192  \n",
      "\n",
      "[1048 rows x 549 columns]\n",
      "       review_count        rating  average_playtime  estimated_active_players  \\\n",
      "count  4.780300e+04  47803.000000      47803.000000              4.780300e+04   \n",
      "mean   4.646368e+02     23.701065          1.204644              9.639018e+03   \n",
      "std    9.027214e+03     36.145649          5.705016              8.192812e+04   \n",
      "min    0.000000e+00      0.000000          0.000000              0.000000e+00   \n",
      "25%    0.000000e+00      0.000000          0.000000              0.000000e+00   \n",
      "50%    0.000000e+00      0.000000          0.000000              0.000000e+00   \n",
      "75%    2.500000e+01     61.000000          0.400000              1.000000e+03   \n",
      "max    1.296235e+06    100.000000        284.600000              8.000000e+06   \n",
      "\n",
      "       estimated_players    popularity  category_- Arcane Raise -  \\\n",
      "count       4.780300e+04  47803.000000               47803.000000   \n",
      "mean        1.400856e+05      1.100747                   0.000021   \n",
      "std         5.328808e+05      4.715816                   0.004574   \n",
      "min         0.000000e+00      0.000000                   0.000000   \n",
      "25%         0.000000e+00      0.000000                   0.000000   \n",
      "50%         0.000000e+00      0.000000                   0.000000   \n",
      "75%         2.400000e+04      0.000000                   0.000000   \n",
      "max         2.140000e+07    205.000000                   1.000000   \n",
      "\n",
      "       category_Action  category_Action Games  category_Adventure  ...  \\\n",
      "count     47803.000000           47803.000000        47803.000000  ...   \n",
      "mean          0.000042               0.245026            0.000105  ...   \n",
      "std           0.006468               0.430107            0.010227  ...   \n",
      "min           0.000000               0.000000            0.000000  ...   \n",
      "25%           0.000000               0.000000            0.000000  ...   \n",
      "50%           0.000000               0.000000            0.000000  ...   \n",
      "75%           0.000000               0.000000            0.000000  ...   \n",
      "max           1.000000               1.000000            1.000000  ...   \n",
      "\n",
      "        tag_Western  tag_Word Game  tag_World War I  tag_World War II  \\\n",
      "count  47803.000000   47803.000000     47803.000000      47803.000000   \n",
      "mean       0.002552       0.002197         0.001067          0.006297   \n",
      "std        0.050455       0.046816         0.032646          0.079102   \n",
      "min        0.000000       0.000000         0.000000          0.000000   \n",
      "25%        0.000000       0.000000         0.000000          0.000000   \n",
      "50%        0.000000       0.000000         0.000000          0.000000   \n",
      "75%        0.000000       0.000000         0.000000          0.000000   \n",
      "max        1.000000       1.000000         1.000000          1.000000   \n",
      "\n",
      "       tag_Wrestling   tag_Zombies   tag_eSports         price      discount  \\\n",
      "count   47803.000000  47803.000000  47803.000000  47803.000000  47803.000000   \n",
      "mean        0.000377      0.015250      0.002489      7.217382      2.933229   \n",
      "std         0.019401      0.122547      0.049832     13.018202     11.716149   \n",
      "min         0.000000      0.000000      0.000000      0.000000      0.000000   \n",
      "25%         0.000000      0.000000      0.000000      1.590000      0.000000   \n",
      "50%         0.000000      0.000000      0.000000      4.990000      0.000000   \n",
      "75%         0.000000      0.000000      0.000000      9.990000      0.000000   \n",
      "max         1.000000      1.000000      1.000000    999.000000    100.000000   \n",
      "\n",
      "       years_since_release  \n",
      "count         47803.000000  \n",
      "mean              2.946895  \n",
      "std               2.889465  \n",
      "min               0.000000  \n",
      "25%               1.049315  \n",
      "50%               2.334247  \n",
      "75%               3.967123  \n",
      "max              50.232877  \n",
      "\n",
      "[8 rows x 546 columns]\n"
     ]
    }
   ],
   "source": [
    "# Checking for negative values of years_since_release, since the min-value is negative:\n",
    "print(games.loc[games['years_since_release'] < 0])\n",
    "# It seems there are 1048 games that weren't released yet. They will get dropped as they can't give\n",
    "# an indication about the number of players:\n",
    "games = games[games['years_since_release'] >= 0]\n",
    "print(games.describe())"
   ]
  },
  {
   "cell_type": "code",
   "execution_count": 16,
   "metadata": {},
   "outputs": [
    {
     "data": {
      "image/png": "[encoded data removed]",
      "text/plain": [
       "<Figure size 432x288 with 1 Axes>"
      ]
     },
     "metadata": {
      "needs_background": "light"
     },
     "output_type": "display_data"
    },
    {
     "name": "stdout",
     "output_type": "stream",
     "text": [
      "                      0\n",
      "tag_Indie         30146\n",
      "tag_Action        19611\n",
      "tag_Casual        17501\n",
      "tag_Adventure     16056\n",
      "tag_Simulation    11617\n",
      "...                 ...\n",
      "tag_Benchmark         4\n",
      "tag_Feature Film      4\n",
      "tag_Reboot            3\n",
      "tag_Action RTS        2\n",
      "tag_Breathtaking      1\n",
      "\n",
      "[422 rows x 1 columns]\n"
     ]
    }
   ],
   "source": [
    "# Counting the occurences of tags:\n",
    "tag_filter = [col for col in games if col.startswith('tag_')]\n",
    "tag_cols = games[tag_filter]\n",
    "tag_count = tag_cols.sum()\n",
    "tag_c = pandas.DataFrame(tag_count)\n",
    "tag_c = tag_c.sort_values(by=0, ascending=False)\n",
    "topten = tag_c.iloc[:10]\n",
    "topten[0].plot(kind='bar')\n",
    "mat.title(f'Most popular tags')\n",
    "mat.show()\n",
    "print(tag_c)"
   ]
  },
  {
   "cell_type": "code",
   "execution_count": 17,
   "metadata": {},
   "outputs": [
    {
     "data": {
      "image/png": "[encoded data removed]",
      "text/plain": [
       "<Figure size 432x288 with 1 Axes>"
      ]
     },
     "metadata": {
      "needs_background": "light"
     },
     "output_type": "display_data"
    },
    {
     "name": "stdout",
     "output_type": "stream",
     "text": [
      "                                               0\n",
      "category_Action Games                      11713\n",
      "category_Indie Games                        9768\n",
      "category_Casual Games                       6252\n",
      "category_Adventure Games                    4994\n",
      "category_RPG Games                          3582\n",
      "...                                          ...\n",
      "category_Total War Official Franchise          0\n",
      "category_Resident Evil Franchise               0\n",
      "category_Call of Duty®: Modern Warfare® 3      0\n",
      "category_SteamWorld Heist                      0\n",
      "category_Half-Life Franchise Franchise         0\n",
      "\n",
      "[115 rows x 1 columns]\n",
      "(47803, 434)\n"
     ]
    }
   ],
   "source": [
    "# Barplot of the 10 most common categories:\n",
    "cat_filter = [col for col in games if col.startswith('category_')]\n",
    "cat_cols = games[cat_filter]\n",
    "cat_count = cat_cols.sum()\n",
    "cat_c = pandas.DataFrame(cat_count)\n",
    "cat_c = cat_c.sort_values(by=0, ascending=False)\n",
    "top = cat_c.iloc[:10]\n",
    "top[0].plot(kind='bar')\n",
    "mat.title('Most popular categories')\n",
    "mat.show()\n",
    "print(cat_c)\n",
    "# There are some categories that don't have any value anymore after the dropping of some rows.\n",
    "# They will therefore get deleted.\n",
    "games = games.drop(games[(cat_count == 0).index], axis=1)\n",
    "print(games.shape)\n",
    "# It seems 115 columns were deleted."
   ]
  },
  {
   "cell_type": "code",
   "execution_count": 18,
   "metadata": {},
   "outputs": [
    {
     "data": {
      "image/png": "[encoded data removed]",
      "text/plain": [
       "<Figure size 432x288 with 1 Axes>"
      ]
     },
     "metadata": {
      "needs_background": "light"
     },
     "output_type": "display_data"
    }
   ],
   "source": [
    "# Histogram ratings:\n",
    "mat.hist(x=games['rating'], bins=20)\n",
    "mat.title('Distribution of ratings')\n",
    "mat.xlabel('Rating')\n",
    "mat.show()\n",
    "# Though it seems, that there are a lot of games that have a very low ranking, this should be a consequence\n",
    "# of the imputation."
   ]
  },
  {
   "cell_type": "code",
   "execution_count": 19,
   "metadata": {},
   "outputs": [
    {
     "data": {
      "image/png": "[encoded data removed]",
      "text/plain": [
       "<Figure size 432x288 with 1 Axes>"
      ]
     },
     "metadata": {
      "needs_background": "light"
     },
     "output_type": "display_data"
    }
   ],
   "source": [
    "# To get a better impression of the distribution, only ratings > 0 will be viewed next:\n",
    "rated_games = games[games['rating']>0]\n",
    "mat.hist(x=rated_games['rating'], bins=20)\n",
    "mat.title('Distribution of ratings')\n",
    "mat.xlabel('Rating')\n",
    "mat.show()\n",
    "# Most games seem to have a fairly good to very good rating."
   ]
  },
  {
   "cell_type": "code",
   "execution_count": 20,
   "metadata": {},
   "outputs": [
    {
     "data": {
      "image/png": "[encoded data removed]",
      "text/plain": [
       "<Figure size 432x288 with 1 Axes>"
      ]
     },
     "metadata": {
      "needs_background": "light"
     },
     "output_type": "display_data"
    }
   ],
   "source": [
    "# Barplot number of game releases per year:\n",
    "games_per_year = games.groupby(games['release_date'].dt.year.rename('release_year')).agg('count')['name']\n",
    "games_per_year.plot(y=games_per_year, x=games_per_year.index, kind='bar')\n",
    "mat.title('Total games released per year')\n",
    "mat.xlabel('Year')\n",
    "mat.ylabel('Total games')\n",
    "mat.show()\n",
    "# There are very few games from before 2005 in the dataset. Most of the games a very new as the later the higher the\n",
    "# bar (apart from 2020 in which we are only three quarters in)."
   ]
  },
  {
   "cell_type": "code",
   "execution_count": 21,
   "metadata": {},
   "outputs": [
    {
     "data": {
      "image/png": "[encoded data removed]",
      "text/plain": [
       "<Figure size 432x288 with 1 Axes>"
      ]
     },
     "metadata": {
      "needs_background": "light"
     },
     "output_type": "display_data"
    }
   ],
   "source": [
    "# Histogram number of games in a specific price range:\n",
    "mat.hist(x=games['price'], bins=20)\n",
    "mat.title('Number of games in price range')\n",
    "mat.xlabel('Price in €')\n",
    "mat.show()\n",
    "# Most games cost less than a hundred."
   ]
  },
  {
   "cell_type": "code",
   "execution_count": 22,
   "metadata": {},
   "outputs": [
    {
     "data": {
      "image/png": "[encoded data removed]",
      "text/plain": [
       "<Figure size 432x288 with 1 Axes>"
      ]
     },
     "metadata": {
      "needs_background": "light"
     },
     "output_type": "display_data"
    },
    {
     "name": "stdout",
     "output_type": "stream",
     "text": [
      "6478\n"
     ]
    }
   ],
   "source": [
    "# To be able to get a better impression of the distribution of the price, games for more than 100€ get cut off:\n",
    "cheap_games = games[games['price']<100]\n",
    "mat.hist(x=cheap_games['price'], bins=20)\n",
    "mat.title('Number of games in price range (<100€)')\n",
    "mat.xlabel('Price in €')\n",
    "mat.show()\n",
    "# Most games seem to cost less than 5€.\n",
    "print(len(games[games['price']==0]))\n",
    "# Of the almost 30,000 games that cost less than 5€, about 6,500 are actually free."
   ]
  },
  {
   "cell_type": "code",
   "execution_count": 23,
   "metadata": {},
   "outputs": [
    {
     "data": {
      "image/png": "[encoded data removed]",
      "text/plain": [
       "<Figure size 432x288 with 1 Axes>"
      ]
     },
     "metadata": {
      "needs_background": "light"
     },
     "output_type": "display_data"
    }
   ],
   "source": [
    "# Histogram number of players:\n",
    "mat.hist(x=games['estimated_players'], bins=20)\n",
    "mat.title('Distribution of player count')\n",
    "mat.xlabel('Estimated number of players')\n",
    "mat.show()\n",
    "# There are very few games that have more than 5,000,000 players and most games seem to have less than \n",
    "# 1,000,000 players."
   ]
  },
  {
   "cell_type": "code",
   "execution_count": 24,
   "metadata": {},
   "outputs": [
    {
     "data": {
      "image/png": "[encoded data removed]",
      "text/plain": [
       "<Figure size 432x288 with 1 Axes>"
      ]
     },
     "metadata": {
      "needs_background": "light"
     },
     "output_type": "display_data"
    }
   ],
   "source": [
    "# Again, to get a better overview over the games, games with more than 1,000,000 players get cut off:\n",
    "low_pc_games = games[games['estimated_players']<1000000]\n",
    "mat.hist(x=low_pc_games['estimated_players'], bins=20)\n",
    "mat.title('Distribution of player count (games with #players < 1,000,000)')\n",
    "mat.xlabel('Estimated number of players')\n",
    "mat.show()\n",
    "# Still most games have a relatively low player count or no players at all."
   ]
  },
  {
   "cell_type": "code",
   "execution_count": 25,
   "metadata": {},
   "outputs": [
    {
     "data": {
      "image/png": "[encoded data removed]",
      "text/plain": [
       "<Figure size 432x288 with 1 Axes>"
      ]
     },
     "metadata": {
      "needs_background": "light"
     },
     "output_type": "display_data"
    }
   ],
   "source": [
    "# To see the distribution of player counts of games that are actually played, games with a player count of 0\n",
    "# get cut off as well:\n",
    "played_games = low_pc_games[low_pc_games['estimated_players']>0]\n",
    "mat.hist(x=played_games['estimated_players'], bins=20)\n",
    "mat.title('Distribution of player count (games with #players < 1,000,000 and > 0)')\n",
    "mat.xlabel('Estimated number of players')\n",
    "mat.show()\n",
    "# As suspected before, most games really have very few players."
   ]
  },
  {
   "cell_type": "code",
   "execution_count": 26,
   "metadata": {},
   "outputs": [
    {
     "data": {
      "text/plain": [
       "Text(0, 0.5, 'Number of players')"
      ]
     },
     "execution_count": 26,
     "metadata": {},
     "output_type": "execute_result"
    },
    {
     "data": {
      "image/png": "[encoded data removed]",
      "text/plain": [
       "<Figure size 432x288 with 1 Axes>"
      ]
     },
     "metadata": {
      "needs_background": "light"
     },
     "output_type": "display_data"
    }
   ],
   "source": [
    "# Scatterplot Release year/number of players:\n",
    "sea.scatterplot(data=games, x=games['release_date'].dt.year, y='estimated_players')\n",
    "mat.xlabel('Release year')\n",
    "mat.ylabel('Number of players')\n",
    "# The most popular games were released after 2000. Though as visible above, there were also a lot more games released\n",
    "# after 2005."
   ]
  },
  {
   "cell_type": "code",
   "execution_count": 27,
   "metadata": {},
   "outputs": [
    {
     "data": {
      "text/plain": [
       "Text(0, 0.5, 'Number of players')"
      ]
     },
     "execution_count": 27,
     "metadata": {},
     "output_type": "execute_result"
    },
    {
     "data": {
      "image/png": "[encoded data removed]",
      "text/plain": [
       "<Figure size 432x288 with 1 Axes>"
      ]
     },
     "metadata": {
      "needs_background": "light"
     },
     "output_type": "display_data"
    }
   ],
   "source": [
    "# Scatterplot price(<100€)/number of players (using dataset cheap_game from before):\n",
    "sea.scatterplot(data=cheap_games, x='price', y='estimated_players')\n",
    "mat.xlabel('Price in €')\n",
    "mat.ylabel('Number of players')\n",
    "# Games seem to get less popular with a lower price apart from an outlier at 100€. Though, again it has\n",
    "# to be noted that there are a lot more games in the lower price range."
   ]
  },
  {
   "cell_type": "code",
   "execution_count": 28,
   "metadata": {},
   "outputs": [
    {
     "data": {
      "text/plain": [
       "Text(0, 0.5, 'Number of players')"
      ]
     },
     "execution_count": 28,
     "metadata": {},
     "output_type": "execute_result"
    },
    {
     "data": {
      "image/png": "[encoded data removed]",
      "text/plain": [
       "<Figure size 432x288 with 1 Axes>"
      ]
     },
     "metadata": {
      "needs_background": "light"
     },
     "output_type": "display_data"
    }
   ],
   "source": [
    "# Scatterplot rating/number of players:\n",
    "sea.scatterplot(data=games, x='rating', y='estimated_players')\n",
    "mat.xlabel('Rating')\n",
    "mat.ylabel('Number of players')\n",
    "# As expected, games that have a high ranking also more players."
   ]
  },
  {
   "cell_type": "code",
   "execution_count": 29,
   "metadata": {},
   "outputs": [],
   "source": [
    "# Splitting the data into train and test:\n",
    "x = games.copy()\n",
    "del x['app_id']\n",
    "del x['name']\n",
    "del x['estimated_players']\n",
    "del x['estimated_active_players']\n",
    "del x['release_date']\n",
    "del x['popularity']\n",
    "del x['review_count']\n",
    "del x['rating']\n",
    "y = pandas.DataFrame(games['estimated_players'])\n",
    "x_train, x_test, y_train, y_test = train_test_split(x, y, train_size=0.8, random_state = 206, shuffle=True)"
   ]
  },
  {
   "cell_type": "code",
   "execution_count": 31,
   "metadata": {},
   "outputs": [
    {
     "name": "stdout",
     "output_type": "stream",
     "text": [
      "RMSE: 399472.6923618711\n",
      "140085.60109198166\n",
      "                            OLS Regression Results                            \n",
      "==============================================================================\n",
      "Dep. Variable:      estimated_players   R-squared:                       0.421\n",
      "Model:                            OLS   Adj. R-squared:                  0.414\n",
      "Method:                 Least Squares   F-statistic:                     64.53\n",
      "Date:                Mon, 28 Sep 2020   Prob (F-statistic):               0.00\n",
      "Time:                        15:50:25   Log-Likelihood:            -5.4851e+05\n",
      "No. Observations:               38242   AIC:                         1.098e+06\n",
      "Df Residuals:                   37815   BIC:                         1.102e+06\n",
      "Df Model:                         426                                         \n",
      "Covariance Type:            nonrobust                                         \n",
      "=========================================================================================================\n",
      "                                            coef    std err          t      P>|t|      [0.025      0.975]\n",
      "---------------------------------------------------------------------------------------------------------\n",
      "const                                 -1.367e+05   6510.125    -20.991      0.000   -1.49e+05   -1.24e+05\n",
      "average_playtime                       1.981e+04    418.158     47.372      0.000     1.9e+04    2.06e+04\n",
      "tag_1980s                              1.926e+04   3.09e+04      0.623      0.534   -4.14e+04    7.99e+04\n",
      "tag_1990's                            -6394.2218   2.82e+04     -0.227      0.820   -6.16e+04    4.88e+04\n",
      "tag_2.5D                               3.747e+04   2.97e+04      1.262      0.207   -2.07e+04    9.56e+04\n",
      "tag_2D                                  1.81e+04   9575.092      1.890      0.059    -665.767    3.69e+04\n",
      "tag_2D Fighter                        -1.222e+04   3.69e+04     -0.331      0.741   -8.46e+04    6.02e+04\n",
      "tag_2D Platformer                     -6.498e+04   2.28e+04     -2.855      0.004    -1.1e+05   -2.04e+04\n",
      "tag_360 Video                          2.654e+04   1.96e+05      0.135      0.892   -3.58e+05    4.11e+05\n",
      "tag_3D                                 -8.64e+04   1.71e+04     -5.055      0.000    -1.2e+05   -5.29e+04\n",
      "tag_3D Fighter                          4.02e+04   5.82e+04      0.691      0.489   -7.38e+04    1.54e+05\n",
      "tag_3D Platformer                      -296.3184   2.36e+04     -0.013      0.990   -4.66e+04     4.6e+04\n",
      "tag_3D Vision                          3.404e+05   5.36e+04      6.350      0.000    2.35e+05    4.45e+05\n",
      "tag_4 Player Local                    -8.888e+04   2.56e+04     -3.471      0.001   -1.39e+05   -3.87e+04\n",
      "tag_4X                                -1.738e+05    4.5e+04     -3.867      0.000   -2.62e+05   -8.57e+04\n",
      "tag_6DOF                              -9.889e+04   4.63e+04     -2.135      0.033    -1.9e+05   -8122.338\n",
      "tag_ATV                                8.501e+04   2.26e+05      0.377      0.706   -3.57e+05    5.27e+05\n",
      "tag_Abstract                          -5.224e+04   2.73e+04     -1.915      0.055   -1.06e+05    1216.131\n",
      "tag_Action                             4.251e+04   5273.563      8.062      0.000    3.22e+04    5.29e+04\n",
      "tag_Action RPG                        -2.713e+04   2.24e+04     -1.213      0.225    -7.1e+04    1.67e+04\n",
      "tag_Action RTS                        -4.889e+05   4.19e+05     -1.168      0.243   -1.31e+06    3.31e+05\n",
      "tag_Action Roguelike                    6.63e+04   3.12e+04      2.125      0.034    5139.859    1.27e+05\n",
      "tag_Action-Adventure                   -1.03e+05   1.78e+04     -5.789      0.000   -1.38e+05   -6.81e+04\n",
      "tag_Addictive                           8.54e+04   2.75e+04      3.105      0.002    3.15e+04    1.39e+05\n",
      "tag_Adventure                          2.048e+04   5250.917      3.901      0.000    1.02e+04    3.08e+04\n",
      "tag_Agriculture                        8.495e+04   6.45e+04      1.318      0.187   -4.14e+04    2.11e+05\n",
      "tag_Aliens                              1.27e+05   2.61e+04      4.863      0.000    7.58e+04    1.78e+05\n",
      "tag_Alternate History                 -2.012e+05   3.62e+04     -5.552      0.000   -2.72e+05    -1.3e+05\n",
      "tag_Ambient                           -2.147e+04   1.09e+05     -0.197      0.844   -2.35e+05    1.92e+05\n",
      "tag_America                            4.078e+04   5.18e+04      0.787      0.431   -6.08e+04    1.42e+05\n",
      "tag_Animation & Modeling               1.127e+05   4.48e+04      2.515      0.012    2.49e+04    2.01e+05\n",
      "tag_Anime                             -4.867e+04   1.26e+04     -3.862      0.000   -7.34e+04    -2.4e+04\n",
      "tag_Arcade                             1.738e+04    1.2e+04      1.448      0.148   -6149.670    4.09e+04\n",
      "tag_Archery                           -2.591e+04   6.86e+04     -0.378      0.706    -1.6e+05    1.09e+05\n",
      "tag_Arena Shooter                     -1.576e+05      3e+04     -5.247      0.000   -2.16e+05   -9.87e+04\n",
      "tag_Artificial Intelligence           -6.095e+04   4.42e+04     -1.379      0.168   -1.48e+05    2.56e+04\n",
      "tag_Assassin                           9.154e+04   6.45e+04      1.419      0.156   -3.49e+04    2.18e+05\n",
      "tag_Asymmetric VR                      9.446e+04   9.79e+04      0.965      0.335   -9.74e+04    2.86e+05\n",
      "tag_Asynchronous Multiplayer          -2.505e+05   5.94e+04     -4.213      0.000   -3.67e+05   -1.34e+05\n",
      "tag_Atmospheric                        9.618e+04   1.06e+04      9.054      0.000    7.54e+04    1.17e+05\n",
      "tag_Audio Production                  -3.783e+04   3.59e+04     -1.053      0.292   -1.08e+05    3.26e+04\n",
      "tag_Auto Battler                       1.477e+05   1.05e+05      1.405      0.160   -5.84e+04    3.54e+05\n",
      "tag_Automation                         1.436e+05   6.09e+04      2.359      0.018    2.43e+04    2.63e+05\n",
      "tag_Automobile Sim                    -2.784e+04   3.91e+04     -0.712      0.477   -1.05e+05    4.88e+04\n",
      "tag_BMX                                1.785e+05   1.69e+05      1.056      0.291   -1.53e+05     5.1e+05\n",
      "tag_Base Building                      1.625e+04   2.76e+04      0.588      0.557   -3.79e+04    7.04e+04\n",
      "tag_Baseball                          -1.953e+05   9.12e+04     -2.142      0.032   -3.74e+05   -1.66e+04\n",
      "tag_Based On A Novel                   8.467e+05   7.96e+04     10.636      0.000    6.91e+05       1e+06\n",
      "tag_Basketball                        -2.562e+05   9.89e+04     -2.591      0.010    -4.5e+05   -6.24e+04\n",
      "tag_Battle Royale                       9.33e+04   4.69e+04      1.989      0.047    1381.483    1.85e+05\n",
      "tag_Beat 'em up                       -8162.9902   2.81e+04     -0.290      0.772   -6.33e+04    4.69e+04\n",
      "tag_Beautiful                         -1542.8686   2.14e+04     -0.072      0.943   -4.36e+04    4.05e+04\n",
      "tag_Benchmark                          2.778e+06    2.1e+05     13.247      0.000    2.37e+06    3.19e+06\n",
      "tag_Bikes                             -1.035e+05   8.98e+04     -1.153      0.249   -2.79e+05    7.25e+04\n",
      "tag_Blood                             -4.377e+04   3.68e+04     -1.188      0.235   -1.16e+05    2.84e+04\n",
      "tag_Board Game                         4.866e+04   2.75e+04      1.767      0.077   -5328.257    1.03e+05\n",
      "tag_Bowling                           -9.489e+04   1.47e+05     -0.647      0.517   -3.82e+05    1.92e+05\n",
      "tag_Boxing                             2.193e+04   9.22e+04      0.238      0.812   -1.59e+05    2.03e+05\n",
      "tag_Breathtaking                      -4.844e+05   4.22e+05     -1.149      0.251   -1.31e+06    3.42e+05\n",
      "tag_Building                          -2.403e+04   2.11e+04     -1.140      0.254   -6.53e+04    1.73e+04\n",
      "tag_Bullet Hell                       -5.658e+04   2.17e+04     -2.610      0.009   -9.91e+04   -1.41e+04\n",
      "tag_Bullet Time                       -4.784e+04   4.84e+04     -0.988      0.323   -1.43e+05     4.7e+04\n",
      "tag_CRPG                               9.242e+04   4.06e+04      2.274      0.023    1.27e+04    1.72e+05\n",
      "tag_Capitalism                         1.126e+05   5.56e+04      2.026      0.043    3646.830    2.22e+05\n",
      "tag_Card Battler                      -1.409e+05   5.96e+04     -2.365      0.018   -2.58e+05   -2.41e+04\n",
      "tag_Card Game                          4.099e+04   2.69e+04      1.524      0.128   -1.17e+04    9.37e+04\n",
      "tag_Cartoon                           -3.684e+04   2.57e+04     -1.434      0.152   -8.72e+04    1.35e+04\n",
      "tag_Cartoony                          -4.635e+04   2.03e+04     -2.284      0.022   -8.61e+04   -6570.057\n",
      "tag_Casual                             2.207e+04   5019.381      4.396      0.000    1.22e+04    3.19e+04\n",
      "tag_Cats                              -2.661e+04   4.22e+04     -0.631      0.528   -1.09e+05    5.61e+04\n",
      "tag_Character Action Game             -1.377e+04   3.37e+04     -0.408      0.683   -7.99e+04    5.23e+04\n",
      "tag_Character Customization           -8.999e+04   2.09e+04     -4.309      0.000   -1.31e+05   -4.91e+04\n",
      "tag_Chess                              1.508e+05   6.32e+04      2.387      0.017     2.7e+04    2.75e+05\n",
      "tag_Choices Matter                    -6054.8376   1.89e+04     -0.320      0.749   -4.31e+04     3.1e+04\n",
      "tag_Choose Your Own Adventure         -3.855e+04   2.43e+04     -1.585      0.113   -8.62e+04    9126.816\n",
      "tag_Cinematic                          8.846e+04   4.12e+04      2.146      0.032    7671.596    1.69e+05\n",
      "tag_City Builder                       5.582e+04   3.22e+04      1.734      0.083   -7275.983    1.19e+05\n",
      "tag_Class-Based                        3.289e+05   5.43e+04      6.053      0.000    2.22e+05    4.35e+05\n",
      "tag_Classic                           -1.071e+04   1.75e+04     -0.614      0.540   -4.49e+04    2.35e+04\n",
      "tag_Clicker                           -4.333e+04      3e+04     -1.445      0.148   -1.02e+05    1.54e+04\n",
      "tag_Co-op                              2.882e+05   1.58e+04     18.268      0.000    2.57e+05    3.19e+05\n",
      "tag_Co-op Campaign                    -1.659e+05   4.86e+04     -3.415      0.001   -2.61e+05   -7.07e+04\n",
      "tag_Cold War                          -1.423e+04   5.26e+04     -0.270      0.787   -1.17e+05    8.89e+04\n",
      "tag_Collectathon                       1.306e+05   6.21e+04      2.103      0.036    8860.410    2.52e+05\n",
      "tag_Colony Sim                         1.483e+04   5.09e+04      0.291      0.771    -8.5e+04    1.15e+05\n",
      "tag_Colorful                          -5.329e+04   1.42e+04     -3.764      0.000    -8.1e+04   -2.55e+04\n",
      "tag_Combat                             -1.33e+05   2.86e+04     -4.655      0.000   -1.89e+05    -7.7e+04\n",
      "tag_Combat Racing                     -1.997e+05   6.75e+04     -2.960      0.003   -3.32e+05   -6.74e+04\n",
      "tag_Comedy                             1.054e+05   1.54e+04      6.825      0.000    7.52e+04    1.36e+05\n",
      "tag_Comic Book                         1.168e+05   4.13e+04      2.826      0.005    3.58e+04    1.98e+05\n",
      "tag_Competitive                        8.822e+04   2.38e+04      3.705      0.000    4.16e+04    1.35e+05\n",
      "tag_Conspiracy                        -2.655e+04   6.71e+04     -0.396      0.692   -1.58e+05    1.05e+05\n",
      "tag_Controller                         1.132e+05   1.81e+04      6.247      0.000    7.77e+04    1.49e+05\n",
      "tag_Conversation                       -1.32e+05   4.11e+04     -3.209      0.001   -2.13e+05   -5.14e+04\n",
      "tag_Crafting                          -6.605e+04   2.45e+04     -2.696      0.007   -1.14e+05    -1.8e+04\n",
      "tag_Creature Collector                -6.398e+04   1.04e+05     -0.614      0.540   -2.68e+05     1.4e+05\n",
      "tag_Crime                              2.347e+05    3.9e+04      6.021      0.000    1.58e+05    3.11e+05\n",
      "tag_Crowdfunded                       -3.333e+04   5.76e+04     -0.578      0.563   -1.46e+05    7.96e+04\n",
      "tag_Cult Classic                      -1.306e+04   3.54e+04     -0.369      0.712   -8.24e+04    5.62e+04\n",
      "tag_Cute                              -2.132e+04   1.27e+04     -1.681      0.093   -4.62e+04    3541.216\n",
      "tag_Cyberpunk                         -3.909e+04   2.54e+04     -1.541      0.123   -8.88e+04    1.06e+04\n",
      "tag_Cycling                            -3.55e+05   1.44e+05     -2.465      0.014   -6.37e+05   -7.27e+04\n",
      "tag_Dark                              -6.559e+04   1.88e+04     -3.487      0.000   -1.02e+05   -2.87e+04\n",
      "tag_Dark Comedy                       -6.536e+04    3.8e+04     -1.721      0.085    -1.4e+05    9073.413\n",
      "tag_Dark Fantasy                      -3.147e+04   2.38e+04     -1.321      0.187   -7.82e+04    1.52e+04\n",
      "tag_Dark Humor                        -2.535e+04    2.8e+04     -0.905      0.366   -8.03e+04    2.96e+04\n",
      "tag_Dating Sim                         4314.4610   2.45e+04      0.176      0.860   -4.37e+04    5.24e+04\n",
      "tag_Deckbuilding                       1.128e+05   6.13e+04      1.839      0.066   -7415.712    2.33e+05\n",
      "tag_Demons                            -4.624e+04   3.44e+04     -1.342      0.179   -1.14e+05    2.13e+04\n",
      "tag_Design & Illustration              -4.21e+04   2.85e+04     -1.477      0.140    -9.8e+04    1.38e+04\n",
      "tag_Destruction                        3.773e+04   3.12e+04      1.210      0.226   -2.34e+04    9.88e+04\n",
      "tag_Detective                          3.726e+04   3.17e+04      1.174      0.240    -2.5e+04    9.95e+04\n",
      "tag_Difficult                          4.918e+04   1.12e+04      4.406      0.000    2.73e+04    7.11e+04\n",
      "tag_Dinosaurs                          1.594e+04   4.34e+04      0.367      0.714   -6.92e+04    1.01e+05\n",
      "tag_Diplomacy                          1.267e+06    6.8e+04     18.642      0.000    1.13e+06     1.4e+06\n",
      "tag_Documentary                       -1.822e+05   1.22e+05     -1.499      0.134    -4.2e+05     5.6e+04\n",
      "tag_Dog                                7.261e+04   5.98e+04      1.215      0.224   -4.45e+04     1.9e+05\n",
      "tag_Dragons                            6.722e+04   3.94e+04      1.706      0.088      -1e+04    1.44e+05\n",
      "tag_Drama                             -1.368e+04   2.81e+04     -0.488      0.626   -6.87e+04    4.13e+04\n",
      "tag_Driving                           -1.102e+05   3.38e+04     -3.257      0.001   -1.77e+05   -4.39e+04\n",
      "tag_Dungeon Crawler                   -4.566e+04    2.4e+04     -1.902      0.057   -9.27e+04    1391.196\n",
      "tag_Dungeons & Dragons                -1.354e+05   3.71e+04     -3.649      0.000   -2.08e+05   -6.27e+04\n",
      "tag_Dynamic Narration                  1.128e+05      6e+04      1.881      0.060   -4734.552     2.3e+05\n",
      "tag_Dystopian                          3.253e+05   3.72e+04      8.746      0.000    2.52e+05    3.98e+05\n",
      "tag_Early Access                       -8.53e+04   8377.069    -10.182      0.000   -1.02e+05   -6.89e+04\n",
      "tag_Economy                            4.977e+04   3.03e+04      1.645      0.100   -9542.913    1.09e+05\n",
      "tag_Education                         -5.313e+04   2.33e+04     -2.285      0.022   -9.87e+04   -7546.337\n",
      "tag_Electronic                         4.879e+04   1.61e+05      0.304      0.761   -2.66e+05    3.63e+05\n",
      "tag_Electronic Music                   1.929e+04   1.39e+05      0.139      0.890   -2.54e+05    2.92e+05\n",
      "tag_Emotional                          7.526e+04   3.64e+04      2.066      0.039    3853.015    1.47e+05\n",
      "tag_Epic                               1.794e+05   6.08e+04      2.950      0.003    6.02e+04    2.99e+05\n",
      "tag_Episodic                           2.264e+05   4.79e+04      4.732      0.000    1.33e+05     3.2e+05\n",
      "tag_Experience                         6.142e+04   5.48e+04      1.122      0.262   -4.59e+04    1.69e+05\n",
      "tag_Experimental                      -5.564e+04    2.5e+04     -2.228      0.026   -1.05e+05   -6683.737\n",
      "tag_Exploration                       -3.298e+04   1.41e+04     -2.336      0.019   -6.06e+04   -5310.932\n",
      "tag_FMV                               -1.481e+05   4.81e+04     -3.079      0.002   -2.42e+05   -5.38e+04\n",
      "tag_FPS                                1.159e+05   1.61e+04      7.190      0.000    8.43e+04    1.48e+05\n",
      "tag_Faith                             -7.417e+04   7.31e+04     -1.015      0.310   -2.17e+05     6.9e+04\n",
      "tag_Family Friendly                   -2.848e+04   1.35e+04     -2.103      0.035    -5.5e+04   -1938.094\n",
      "tag_Fantasy                            5607.5430   1.16e+04      0.485      0.627    -1.7e+04    2.83e+04\n",
      "tag_Farming                           -5.461e+04   8.69e+04     -0.628      0.530   -2.25e+05    1.16e+05\n",
      "tag_Farming Sim                       -1.412e+05   7.23e+04     -1.954      0.051   -2.83e+05     470.919\n",
      "tag_Fast-Paced                        -7.694e+04   1.79e+04     -4.307      0.000   -1.12e+05   -4.19e+04\n",
      "tag_Feature Film                       2.201e+05   2.64e+05      0.834      0.404   -2.97e+05    7.37e+05\n",
      "tag_Female Protagonist                 9365.0412   1.21e+04      0.772      0.440   -1.44e+04    3.32e+04\n",
      "tag_Fighting                           7578.2525   2.68e+04      0.283      0.777   -4.49e+04       6e+04\n",
      "tag_First-Person                       4.173e+04   1.37e+04      3.040      0.002    1.48e+04    6.86e+04\n",
      "tag_Fishing                            7.089e+04   5.16e+04      1.375      0.169   -3.02e+04    1.72e+05\n",
      "tag_Flight                            -3907.4800   2.47e+04     -0.158      0.874   -5.22e+04    4.44e+04\n",
      "tag_Football                          -6.757e+04   6.43e+04     -1.051      0.293   -1.94e+05    5.85e+04\n",
      "tag_Foreign                           -7.227e+04   1.06e+05     -0.681      0.496    -2.8e+05    1.36e+05\n",
      "tag_Free to Play                       3.035e+04   8181.260      3.710      0.000    1.43e+04    4.64e+04\n",
      "tag_Funny                              6.112e+04   1.24e+04      4.927      0.000    3.68e+04    8.54e+04\n",
      "tag_Futuristic                        -1.938e+04   2.32e+04     -0.835      0.404   -6.49e+04    2.61e+04\n",
      "tag_Gambling                           5.754e+04   7.14e+04      0.806      0.420   -8.24e+04    1.98e+05\n",
      "tag_Game Development                  -8.288e+04   4.65e+04     -1.782      0.075   -1.74e+05    8300.174\n",
      "tag_GameMaker                         -1.188e+05   4.18e+04     -2.842      0.004   -2.01e+05   -3.69e+04\n",
      "tag_Games Workshop                     3.977e+04   7.45e+04      0.534      0.593   -1.06e+05    1.86e+05\n",
      "tag_Gaming                            -5.915e+04   7.36e+04     -0.804      0.422   -2.03e+05    8.51e+04\n",
      "tag_God Game                           1.243e+05   5.23e+04      2.378      0.017    2.18e+04    2.27e+05\n",
      "tag_Golf                               4.843e+04   9.11e+04      0.532      0.595    -1.3e+05    2.27e+05\n",
      "tag_Gore                               8.498e+04   1.39e+04      6.123      0.000    5.78e+04    1.12e+05\n",
      "tag_Gothic                             1.436e+05   5.27e+04      2.725      0.006    4.03e+04    2.47e+05\n",
      "tag_Grand Strategy                      1.65e+05   3.77e+04      4.375      0.000    9.11e+04    2.39e+05\n",
      "tag_Great Soundtrack                   1.151e+05   1.01e+04     11.382      0.000    9.53e+04    1.35e+05\n",
      "tag_Grid-Based Movement               -3.407e+04   4.34e+04     -0.785      0.432   -1.19e+05     5.1e+04\n",
      "tag_Gun Customization                 -1.231e+05   5.16e+04     -2.385      0.017   -2.24e+05   -2.19e+04\n",
      "tag_Hack and Slash                     5.077e+04   2.45e+04      2.074      0.038    2796.939    9.87e+04\n",
      "tag_Hacking                           -8.631e+04   4.67e+04     -1.846      0.065   -1.78e+05    5307.463\n",
      "tag_Hand-drawn                        -1.072e+04   2.17e+04     -0.495      0.621   -5.32e+04    3.17e+04\n",
      "tag_Hardware                          -4.432e+04   2.45e+05     -0.181      0.856   -5.24e+05    4.35e+05\n",
      "tag_Heist                             -1.359e+05   7.69e+04     -1.769      0.077   -2.87e+05    1.47e+04\n",
      "tag_Hentai                            -1674.1746   3.03e+04     -0.055      0.956   -6.12e+04    5.78e+04\n",
      "tag_Hero Shooter                      -1.511e+05    6.6e+04     -2.289      0.022    -2.8e+05   -2.17e+04\n",
      "tag_Hex Grid                            8.71e+04   4.11e+04      2.118      0.034    6485.839    1.68e+05\n",
      "tag_Hidden Object                      2277.2461   2.11e+04      0.108      0.914   -3.91e+04    4.36e+04\n",
      "tag_Historical                          7.43e+04    2.3e+04      3.236      0.001    2.93e+04    1.19e+05\n",
      "tag_Hockey                             3.681e+04   1.26e+05      0.293      0.770    -2.1e+05    2.83e+05\n",
      "tag_Horror                             5.455e+04   1.32e+04      4.120      0.000    2.86e+04    8.05e+04\n",
      "tag_Horses                            -2.135e+04   7.36e+04     -0.290      0.772   -1.66e+05    1.23e+05\n",
      "tag_Hunting                           -2.266e+05   5.48e+04     -4.139      0.000   -3.34e+05   -1.19e+05\n",
      "tag_Idler                             -2.377e+05   6.96e+04     -3.417      0.001   -3.74e+05   -1.01e+05\n",
      "tag_Illuminati                         2.249e+04   4.38e+04      0.513      0.608   -6.35e+04    1.08e+05\n",
      "tag_Immersive                           6.33e+05   1.07e+05      5.921      0.000    4.23e+05    8.43e+05\n",
      "tag_Immersive Sim                     -9951.9806   4.17e+04     -0.239      0.811   -9.16e+04    7.17e+04\n",
      "tag_Indie                              2578.7426   5123.837      0.503      0.615   -7464.114    1.26e+04\n",
      "tag_Instrumental Music                -1.364e+05   2.01e+05     -0.678      0.498   -5.31e+05    2.58e+05\n",
      "tag_Intentionally Awkward Controls    -1.841e+05   7.94e+04     -2.319      0.020    -3.4e+05   -2.85e+04\n",
      "tag_Interactive Fiction               -3.682e+04   2.63e+04     -1.402      0.161   -8.83e+04    1.47e+04\n",
      "tag_Inventory Management               7.363e+04   4.53e+04      1.626      0.104   -1.51e+04    1.62e+05\n",
      "tag_Investigation                     -1.011e+05   3.69e+04     -2.737      0.006   -1.73e+05   -2.87e+04\n",
      "tag_Isometric                          1.047e+05   2.32e+04      4.514      0.000    5.93e+04     1.5e+05\n",
      "tag_JRPG                              -1000.4455   2.14e+04     -0.047      0.963    -4.3e+04     4.1e+04\n",
      "tag_Jet                               -2.123e+05   9.91e+04     -2.143      0.032   -4.07e+05   -1.81e+04\n",
      "tag_Kickstarter                        1.069e+05   4.22e+04      2.535      0.011    2.42e+04     1.9e+05\n",
      "tag_LEGO                              -2.964e+05   1.01e+05     -2.934      0.003   -4.94e+05   -9.84e+04\n",
      "tag_LGBTQ+                            -6009.8989   2.56e+04     -0.235      0.814   -5.62e+04    4.42e+04\n",
      "tag_Lemmings                          -6.329e+04   1.06e+05     -0.598      0.550   -2.71e+05    1.44e+05\n",
      "tag_Level Editor                      -6.764e+04   2.89e+04     -2.342      0.019   -1.24e+05    -1.1e+04\n",
      "tag_Life Sim                           8.239e+04   4.26e+04      1.934      0.053   -1105.942    1.66e+05\n",
      "tag_Linear                            -6.069e+04   2.87e+04     -2.111      0.035   -1.17e+05   -4346.777\n",
      "tag_Local Co-Op                       -8.078e+04   2.04e+04     -3.954      0.000   -1.21e+05   -4.07e+04\n",
      "tag_Local Multiplayer                 -1.861e+04   1.95e+04     -0.955      0.339   -5.68e+04    1.96e+04\n",
      "tag_Logic                              -6.57e+04   2.37e+04     -2.772      0.006   -1.12e+05   -1.93e+04\n",
      "tag_Loot                              -5.457e+04   3.42e+04     -1.595      0.111   -1.22e+05    1.25e+04\n",
      "tag_Looter Shooter                     6.863e+05   7.93e+04      8.651      0.000    5.31e+05    8.42e+05\n",
      "tag_Lore-Rich                          1.109e+05   4.35e+04      2.549      0.011    2.56e+04    1.96e+05\n",
      "tag_Lovecraftian                       8.584e+04   3.48e+04      2.469      0.014    1.77e+04    1.54e+05\n",
      "tag_MMORPG                            -6.331e+04   3.77e+04     -1.681      0.093   -1.37e+05    1.05e+04\n",
      "tag_MOBA                               4.587e+04   4.98e+04      0.921      0.357   -5.17e+04    1.43e+05\n",
      "tag_Magic                             -3.949e+04   2.22e+04     -1.782      0.075   -8.29e+04    3949.172\n",
      "tag_Management                        -4.917e+04   2.06e+04     -2.388      0.017   -8.95e+04   -8803.539\n",
      "tag_Mars                               1.042e+04   7.96e+04      0.131      0.896   -1.46e+05    1.66e+05\n",
      "tag_Martial Arts                      -2846.0297   5.75e+04     -0.049      0.961   -1.16e+05     1.1e+05\n",
      "tag_Massively Multiplayer              2.041e+04   1.32e+04      1.543      0.123   -5509.332    4.63e+04\n",
      "tag_Match 3                            1.949e+04    2.8e+04      0.697      0.486   -3.53e+04    7.43e+04\n",
      "tag_Mature                             4.209e+04   2.13e+04      1.977      0.048     358.442    8.38e+04\n",
      "tag_Mechs                              3826.6361   3.61e+04      0.106      0.916   -6.69e+04    7.45e+04\n",
      "tag_Medical Sim                         2.69e+04   8.26e+04      0.326      0.745   -1.35e+05    1.89e+05\n",
      "tag_Medieval                           1.283e+05    2.2e+04      5.838      0.000    8.52e+04    1.71e+05\n",
      "tag_Memes                              4.926e+04   2.06e+04      2.396      0.017    8967.419    8.96e+04\n",
      "tag_Metroidvania                       7.142e+04   2.67e+04      2.677      0.007    1.91e+04    1.24e+05\n",
      "tag_Military                           2.439e+05   2.89e+04      8.427      0.000    1.87e+05    3.01e+05\n",
      "tag_Mini Golf                           2.48e+05   1.05e+05      2.357      0.018    4.17e+04    4.54e+05\n",
      "tag_Minigames                          -3.97e+04   4.91e+04     -0.808      0.419   -1.36e+05    5.66e+04\n",
      "tag_Minimalist                        -3.075e+04   1.87e+04     -1.644      0.100   -6.74e+04    5905.238\n",
      "tag_Mining                            -8.272e+04   5.17e+04     -1.601      0.109   -1.84e+05    1.86e+04\n",
      "tag_Mod                                2.264e+05   5.44e+04      4.164      0.000     1.2e+05    3.33e+05\n",
      "tag_Moddable                           6.695e+05   3.05e+04     21.962      0.000     6.1e+05    7.29e+05\n",
      "tag_Modern                             2.029e+04   3.94e+04      0.515      0.607   -5.69e+04    9.75e+04\n",
      "tag_Motocross                         -1.302e+05   1.69e+05     -0.772      0.440   -4.61e+05    2.01e+05\n",
      "tag_Motorbike                         -6384.3373   1.01e+05     -0.063      0.950   -2.04e+05    1.91e+05\n",
      "tag_Mouse only                        -5.608e+04   3.23e+04     -1.735      0.083   -1.19e+05    7276.247\n",
      "tag_Movie                               1.76e+05   1.02e+05      1.720      0.086   -2.46e+04    3.77e+05\n",
      "tag_Multiplayer                        1.546e+05   1.16e+04     13.334      0.000    1.32e+05    1.77e+05\n",
      "tag_Multiple Endings                  -2.485e+04    2.1e+04     -1.184      0.237    -6.6e+04    1.63e+04\n",
      "tag_Music                              4996.6937   2.47e+04      0.202      0.840   -4.34e+04    5.34e+04\n",
      "tag_Music-Based Procedural Generation -5.297e+04   6.83e+04     -0.776      0.438   -1.87e+05    8.08e+04\n",
      "tag_Mystery                           -6.336e+04   1.81e+04     -3.497      0.000   -9.89e+04   -2.79e+04\n",
      "tag_Mystery Dungeon                    -4.63e+04   5.59e+04     -0.828      0.408   -1.56e+05    6.33e+04\n",
      "tag_Mythology                           1.37e+05   4.05e+04      3.379      0.001    5.75e+04    2.16e+05\n",
      "tag_NSFW                               -7.26e+04   3.23e+04     -2.246      0.025   -1.36e+05   -9241.721\n",
      "tag_Narration                          6.335e+04   3.04e+04      2.081      0.037    3687.450    1.23e+05\n",
      "tag_Narrative                          1.029e+05   7.88e+04      1.307      0.191   -5.14e+04    2.57e+05\n",
      "tag_Nature                             5.991e+04   3.45e+04      1.735      0.083   -7787.429    1.28e+05\n",
      "tag_Naval                             -7.347e+04   5.76e+04     -1.275      0.202   -1.86e+05    3.94e+04\n",
      "tag_Naval Combat                       3.063e+04   7.61e+04      0.403      0.687   -1.18e+05     1.8e+05\n",
      "tag_Ninja                              4.394e+05   4.17e+04     10.527      0.000    3.58e+05    5.21e+05\n",
      "tag_Noir                                6.28e+04   4.32e+04      1.454      0.146   -2.19e+04    1.47e+05\n",
      "tag_Nonlinear                         -6.269e+04   4.23e+04     -1.482      0.138   -1.46e+05    2.02e+04\n",
      "tag_Nostalgia                         -4.899e+05   1.13e+05     -4.350      0.000   -7.11e+05   -2.69e+05\n",
      "tag_Nudity                             3.264e+04   1.53e+04      2.136      0.033    2683.894    6.26e+04\n",
      "tag_Offroad                            -8.45e+04   7.51e+04     -1.126      0.260   -2.32e+05    6.26e+04\n",
      "tag_Old School                        -1.565e+04   1.94e+04     -0.807      0.420   -5.36e+04    2.23e+04\n",
      "tag_On-Rails Shooter                  -1.421e+05   6.01e+04     -2.365      0.018    -2.6e+05   -2.43e+04\n",
      "tag_Online Co-Op                        9.85e+04   1.96e+04      5.032      0.000    6.01e+04    1.37e+05\n",
      "tag_Open World                         1.359e+05   1.54e+04      8.832      0.000    1.06e+05    1.66e+05\n",
      "tag_Open World Survival Craft          1.676e+05   4.41e+04      3.804      0.000    8.12e+04    2.54e+05\n",
      "tag_Otome                              1.133e+04   3.84e+04      0.295      0.768    -6.4e+04    8.67e+04\n",
      "tag_Outbreak Sim                       7.616e+04   9.87e+04      0.772      0.440   -1.17e+05     2.7e+05\n",
      "tag_Parkour                            6.943e+04   3.45e+04      2.014      0.044    1870.382    1.37e+05\n",
      "tag_Parody                             7.783e+04   4.44e+04      1.752      0.080   -9243.562    1.65e+05\n",
      "tag_Party                              2.204e+05   6.26e+04      3.521      0.000    9.77e+04    3.43e+05\n",
      "tag_Party Game                         1.603e+05   6.99e+04      2.293      0.022    2.33e+04    2.97e+05\n",
      "tag_Party-Based RPG                   -6.853e+04   2.66e+04     -2.576      0.010   -1.21e+05   -1.64e+04\n",
      "tag_Perma Death                        7.619e+04   2.92e+04      2.606      0.009    1.89e+04    1.33e+05\n",
      "tag_Philosophical                     -6.063e+04   4.29e+04     -1.412      0.158   -1.45e+05    2.35e+04\n",
      "tag_Photo Editing                     -2085.8753   5.59e+04     -0.037      0.970   -1.12e+05    1.07e+05\n",
      "tag_Physics                            2.752e+04   1.62e+04      1.694      0.090   -4318.540    5.94e+04\n",
      "tag_Pinball                            6.419e+04   5.68e+04      1.129      0.259   -4.72e+04    1.76e+05\n",
      "tag_Pirates                           -6327.4460   4.21e+04     -0.150      0.880   -8.88e+04    7.61e+04\n",
      "tag_Pixel Graphics                      1.68e+04   1.12e+04      1.504      0.133   -5088.658    3.87e+04\n",
      "tag_Platformer                         8.695e+04    1.3e+04      6.699      0.000    6.15e+04    1.12e+05\n",
      "tag_Point & Click                      3.856e+04   1.61e+04      2.400      0.016    7072.195       7e+04\n",
      "tag_Political                         -2.464e+05   4.82e+04     -5.116      0.000   -3.41e+05   -1.52e+05\n",
      "tag_Political Sim                     -1.371e+05   6.55e+04     -2.092      0.036   -2.65e+05   -8641.446\n",
      "tag_Politics                          -1.389e+05   5.78e+04     -2.404      0.016   -2.52e+05   -2.56e+04\n",
      "tag_Pool                               1.022e+05   1.11e+05      0.917      0.359   -1.16e+05    3.21e+05\n",
      "tag_Post-apocalyptic                   1.174e+05   2.37e+04      4.956      0.000    7.09e+04    1.64e+05\n",
      "tag_Precision Platformer               1.111e+04   3.83e+04      0.290      0.772    -6.4e+04    8.62e+04\n",
      "tag_Procedural Generation             -6.877e+04   2.18e+04     -3.153      0.002   -1.12e+05    -2.6e+04\n",
      "tag_Programming                        1.294e+05   4.98e+04      2.600      0.009    3.18e+04    2.27e+05\n",
      "tag_Psychedelic                          23.5978   3.42e+04      0.001      0.999    -6.7e+04     6.7e+04\n",
      "tag_Psychological                     -1.016e+05   3.21e+04     -3.165      0.002   -1.65e+05   -3.87e+04\n",
      "tag_Psychological Horror               -1.97e+04    1.8e+04     -1.097      0.273   -5.49e+04    1.55e+04\n",
      "tag_Puzzle                             7.766e+04   9368.505      8.289      0.000    5.93e+04     9.6e+04\n",
      "tag_Puzzle Platformer                 -6.543e+04   1.85e+04     -3.528      0.000   -1.02e+05   -2.91e+04\n",
      "tag_PvE                               -5.714e+04   2.88e+04     -1.984      0.047   -1.14e+05    -683.744\n",
      "tag_PvP                               -1.004e+05   2.13e+04     -4.707      0.000   -1.42e+05   -5.86e+04\n",
      "tag_Quick-Time Events                 -4.111e+04   6.99e+04     -0.588      0.556   -1.78e+05    9.59e+04\n",
      "tag_RPG                                1.955e+04   6570.555      2.975      0.003    6670.318    3.24e+04\n",
      "tag_RPGMaker                           9.258e+04   1.82e+04      5.098      0.000     5.7e+04    1.28e+05\n",
      "tag_RTS                                 1.41e+05   2.28e+04      6.175      0.000    9.63e+04    1.86e+05\n",
      "tag_Racing                             2.569e+04   1.21e+04      2.115      0.034    1885.059    4.95e+04\n",
      "tag_Real Time Tactics                  1.334e+05   3.39e+04      3.942      0.000    6.71e+04       2e+05\n",
      "tag_Real-Time                         -1.205e+05   3.31e+04     -3.638      0.000   -1.85e+05   -5.56e+04\n",
      "tag_Real-Time with Pause              -9.117e+04   3.77e+04     -2.418      0.016   -1.65e+05   -1.73e+04\n",
      "tag_Realistic                         -1.583e+05   1.96e+04     -8.097      0.000   -1.97e+05    -1.2e+05\n",
      "tag_Reboot                             9.205e+04   2.45e+05      0.376      0.707   -3.87e+05    5.71e+05\n",
      "tag_Relaxing                          -3.298e+04   1.51e+04     -2.178      0.029   -6.27e+04   -3306.097\n",
      "tag_Remake                             4.124e+05   4.15e+04      9.935      0.000    3.31e+05    4.94e+05\n",
      "tag_Replay Value                      -6.853e+04   1.56e+04     -4.405      0.000    -9.9e+04    -3.8e+04\n",
      "tag_Resource Management               -8.371e+04   2.62e+04     -3.191      0.001   -1.35e+05   -3.23e+04\n",
      "tag_Retro                             -5.535e+04   1.23e+04     -4.483      0.000   -7.95e+04   -3.11e+04\n",
      "tag_Rhythm                             4.484e+04   3.62e+04      1.238      0.216   -2.62e+04    1.16e+05\n",
      "tag_Robots                            -7.877e+04   2.45e+04     -3.210      0.001   -1.27e+05   -3.07e+04\n",
      "tag_Rock Music                         1.929e+04   2.51e+05      0.077      0.939   -4.73e+05    5.11e+05\n",
      "tag_Roguelike                          6.896e+04   2.35e+04      2.940      0.003     2.3e+04    1.15e+05\n",
      "tag_Roguelike Deckbuilder              1.442e+05   9.22e+04      1.564      0.118   -3.65e+04    3.25e+05\n",
      "tag_Roguelite                         -8.049e+04   2.62e+04     -3.076      0.002   -1.32e+05   -2.92e+04\n",
      "tag_Roguevania                        -1.099e+05   1.05e+05     -1.044      0.297   -3.16e+05    9.65e+04\n",
      "tag_Romance                           -2.666e+04   2.32e+04     -1.147      0.251   -7.22e+04    1.89e+04\n",
      "tag_Rome                               -1.28e+05   7.16e+04     -1.787      0.074   -2.68e+05    1.24e+04\n",
      "tag_Runner                            -1343.2563   3.37e+04     -0.040      0.968   -6.74e+04    6.47e+04\n",
      "tag_Sailing                            2.722e+04   7.41e+04      0.367      0.713   -1.18e+05    1.72e+05\n",
      "tag_Sandbox                            1.193e+04    1.7e+04      0.701      0.483   -2.14e+04    4.53e+04\n",
      "tag_Satire                             1.321e+05   4.67e+04      2.832      0.005    4.07e+04    2.24e+05\n",
      "tag_Sci-fi                             4.159e+04   1.27e+04      3.277      0.001    1.67e+04    6.65e+04\n",
      "tag_Science                              3.1e+04   3.78e+04      0.821      0.412    -4.3e+04    1.05e+05\n",
      "tag_Score Attack                      -2.762e+04    2.7e+04     -1.022      0.307   -8.06e+04    2.54e+04\n",
      "tag_Sequel                            -1.397e+05   6.71e+04     -2.084      0.037   -2.71e+05   -8288.677\n",
      "tag_Sexual Content                    -1.441e+04   1.58e+04     -0.910      0.363   -4.54e+04    1.66e+04\n",
      "tag_Shoot 'Em Up                       4.382e+04   1.92e+04      2.284      0.022    6216.256    8.14e+04\n",
      "tag_Shooter                            1.112e+05    1.4e+04      7.935      0.000    8.37e+04    1.39e+05\n",
      "tag_Short                               1.56e+05   1.82e+04      8.591      0.000     1.2e+05    1.92e+05\n",
      "tag_Side Scroller                      3.449e+04   1.77e+04      1.943      0.052    -301.838    6.93e+04\n",
      "tag_Silent Protagonist                 3.171e+05   5.48e+04      5.789      0.000     2.1e+05    4.24e+05\n",
      "tag_Simulation                         3042.7084   5818.534      0.523      0.601   -8361.773    1.44e+04\n",
      "tag_Singleplayer                       1.049e+05   7654.773     13.704      0.000    8.99e+04     1.2e+05\n",
      "tag_Skateboarding                     -4.172e+05   2.06e+05     -2.024      0.043   -8.21e+05   -1.32e+04\n",
      "tag_Skating                             4.35e+05   1.57e+05      2.766      0.006    1.27e+05    7.43e+05\n",
      "tag_Skiing                             -203.1970   1.87e+05     -0.001      0.999   -3.67e+05    3.67e+05\n",
      "tag_Sniper                             5.403e+04   6.76e+04      0.799      0.424   -7.85e+04    1.87e+05\n",
      "tag_Snow                              -3.891e+04   7.25e+04     -0.536      0.592   -1.81e+05    1.03e+05\n",
      "tag_Snowboarding                      -3.224e+04   2.28e+05     -0.142      0.887   -4.79e+05    4.14e+05\n",
      "tag_Soccer                            -3.933e+04   6.23e+04     -0.631      0.528   -1.61e+05    8.28e+04\n",
      "tag_Social Deduction                  -2.982e+05   1.61e+05     -1.851      0.064   -6.14e+05    1.75e+04\n",
      "tag_Software                          -6.927e+04   2.85e+04     -2.433      0.015   -1.25e+05   -1.35e+04\n",
      "tag_Software Training                  8.215e+04   5.58e+04      1.473      0.141   -2.72e+04    1.91e+05\n",
      "tag_Sokoban                           -2.543e+04   5.72e+04     -0.445      0.657   -1.38e+05    8.67e+04\n",
      "tag_Solitaire                             2.9641   5.96e+04   4.98e-05      1.000   -1.17e+05    1.17e+05\n",
      "tag_Souls-like                         6.848e+04   4.23e+04      1.620      0.105   -1.44e+04    1.51e+05\n",
      "tag_Soundtrack                        -9.377e+04   3.21e+04     -2.924      0.003   -1.57e+05   -3.09e+04\n",
      "tag_Space                              4.159e+04   1.64e+04      2.534      0.011    9420.423    7.38e+04\n",
      "tag_Space Sim                          -1.25e+05    3.8e+04     -3.285      0.001      -2e+05   -5.04e+04\n",
      "tag_Spaceships                         3.453e+05   1.26e+05      2.741      0.006    9.84e+04    5.92e+05\n",
      "tag_Spectacle fighter                 -2.609e+04   6.05e+04     -0.431      0.666   -1.45e+05    9.25e+04\n",
      "tag_Spelling                          -2.145e+05   1.13e+05     -1.891      0.059   -4.37e+05    7821.197\n",
      "tag_Split Screen                      -6130.1623   3.49e+04     -0.175      0.861   -7.46e+04    6.23e+04\n",
      "tag_Sports                            -1725.0205    1.1e+04     -0.157      0.875   -2.33e+04    1.99e+04\n",
      "tag_Stealth                            1.145e+05   2.38e+04      4.819      0.000    6.79e+04    1.61e+05\n",
      "tag_Steam Machine                      -2.79e+05   1.41e+05     -1.985      0.047   -5.54e+05   -3513.600\n",
      "tag_Steampunk                          2.996e+05   3.32e+04      9.028      0.000    2.35e+05    3.65e+05\n",
      "tag_Story Rich                         1.027e+04   1.14e+04      0.899      0.369   -1.21e+04    3.27e+04\n",
      "tag_Strategy                           9404.6937   6127.220      1.535      0.125   -2604.822    2.14e+04\n",
      "tag_Strategy RPG                      -9.509e+04   3.56e+04     -2.668      0.008   -1.65e+05   -2.52e+04\n",
      "tag_Stylized                           2.709e+04   1.87e+04      1.445      0.148   -9654.213    6.38e+04\n",
      "tag_Submarine                         -1.464e+05   1.07e+05     -1.372      0.170   -3.56e+05    6.27e+04\n",
      "tag_Superhero                          3.607e+04   5.32e+04      0.677      0.498   -6.83e+04     1.4e+05\n",
      "tag_Supernatural                       6.046e+04    4.2e+04      1.441      0.150   -2.18e+04    1.43e+05\n",
      "tag_Surreal                           -3.155e+04   2.36e+04     -1.340      0.180   -7.77e+04    1.46e+04\n",
      "tag_Survival                           8597.3088   1.52e+04      0.566      0.572   -2.12e+04    3.84e+04\n",
      "tag_Survival Horror                    1.338e+04   2.13e+04      0.628      0.530   -2.84e+04    5.51e+04\n",
      "tag_Swordplay                         -4.188e+04    4.2e+04     -0.998      0.319   -1.24e+05    4.04e+04\n",
      "tag_Tabletop                          -1.804e+05    3.5e+04     -5.160      0.000   -2.49e+05   -1.12e+05\n",
      "tag_Tactical                           9.475e+04   1.95e+04      4.848      0.000    5.64e+04    1.33e+05\n",
      "tag_Tactical RPG                      -7.729e+04   3.53e+04     -2.189      0.029   -1.47e+05   -8072.630\n",
      "tag_Tanks                              1.391e+05   3.89e+04      3.578      0.000    6.29e+04    2.15e+05\n",
      "tag_Team-Based                         2.746e+05   3.42e+04      8.042      0.000    2.08e+05    3.42e+05\n",
      "tag_Tennis                             6508.3663   1.04e+05      0.063      0.950   -1.97e+05     2.1e+05\n",
      "tag_Text-Based                        -7379.9674   2.51e+04     -0.294      0.769   -5.66e+04    4.19e+04\n",
      "tag_Third Person                         1.4e+05   1.71e+04      8.186      0.000    1.07e+05    1.74e+05\n",
      "tag_Third-Person Shooter               1.684e+05   2.67e+04      6.301      0.000    1.16e+05    2.21e+05\n",
      "tag_Thriller                          -4.296e+04   3.55e+04     -1.212      0.226   -1.12e+05    2.65e+04\n",
      "tag_Time Attack                        6.962e+04    4.6e+04      1.514      0.130   -2.05e+04     1.6e+05\n",
      "tag_Time Management                   -9145.0109   3.12e+04     -0.293      0.769   -7.02e+04     5.2e+04\n",
      "tag_Time Manipulation                  9017.5025   4.45e+04      0.203      0.839   -7.82e+04    9.63e+04\n",
      "tag_Time Travel                        1.655e+05   4.81e+04      3.439      0.001    7.12e+04     2.6e+05\n",
      "tag_Top-Down                           1.759e+04   1.77e+04      0.993      0.321   -1.71e+04    5.23e+04\n",
      "tag_Top-Down Shooter                  -5.816e+04   2.39e+04     -2.438      0.015   -1.05e+05   -1.14e+04\n",
      "tag_Touch-Friendly                      2.78e+05   3.83e+04      7.256      0.000    2.03e+05    3.53e+05\n",
      "tag_Tower Defense                      7.518e+04    2.2e+04      3.423      0.001    3.21e+04    1.18e+05\n",
      "tag_TrackIR                            3.166e+04   7.94e+04      0.399      0.690   -1.24e+05    1.87e+05\n",
      "tag_Trading                           -5.503e+04   5.09e+04     -1.082      0.279   -1.55e+05    4.47e+04\n",
      "tag_Trading Card Game                   2.71e+04   5.14e+04      0.527      0.598   -7.37e+04    1.28e+05\n",
      "tag_Traditional Roguelike             -8.474e+04   7.81e+04     -1.084      0.278   -2.38e+05    6.84e+04\n",
      "tag_Trains                            -1.279e+05    4.9e+04     -2.607      0.009   -2.24e+05   -3.17e+04\n",
      "tag_Transhumanism                      4.792e+05   8.91e+04      5.378      0.000    3.05e+05    6.54e+05\n",
      "tag_Transportation                    -6.057e+04   8.24e+04     -0.735      0.463   -2.22e+05    1.01e+05\n",
      "tag_Trivia                             2.952e+04   6.12e+04      0.483      0.629   -9.04e+04    1.49e+05\n",
      "tag_Turn-Based                         5.028e+04   1.82e+04      2.756      0.006    1.45e+04     8.6e+04\n",
      "tag_Turn-Based Combat                 -1.361e+05   2.41e+04     -5.655      0.000   -1.83e+05   -8.89e+04\n",
      "tag_Turn-Based Strategy                7.607e+04   2.37e+04      3.215      0.001    2.97e+04    1.22e+05\n",
      "tag_Turn-Based Tactics                 1.154e+05   2.79e+04      4.130      0.000    6.06e+04     1.7e+05\n",
      "tag_Tutorial                          -7.655e+04   4.39e+04     -1.746      0.081   -1.63e+05    9405.454\n",
      "tag_Twin Stick Shooter                 1.134e+04   2.86e+04      0.397      0.692   -4.47e+04    6.74e+04\n",
      "tag_Typing                             1.786e+05   6.52e+04      2.738      0.006    5.07e+04    3.06e+05\n",
      "tag_Underground                       -1.928e+04   6.08e+04     -0.317      0.751   -1.38e+05    9.99e+04\n",
      "tag_Underwater                        -1.173e+05   4.67e+04     -2.510      0.012   -2.09e+05   -2.57e+04\n",
      "tag_Unforgiving                        1.807e+05   6.61e+04      2.732      0.006    5.11e+04     3.1e+05\n",
      "tag_Utilities                          -287.0334   2.22e+04     -0.013      0.990   -4.37e+04    4.31e+04\n",
      "tag_VR                                -1.754e+04   9604.776     -1.826      0.068   -3.64e+04    1283.312\n",
      "tag_Vampire                            1.007e+04   5.64e+04      0.179      0.858      -1e+05    1.21e+05\n",
      "tag_Vehicular Combat                    1.03e+05   6.26e+04      1.647      0.100   -1.96e+04    2.26e+05\n",
      "tag_Video Production                   1.541e+04   5.63e+04      0.274      0.784   -9.49e+04    1.26e+05\n",
      "tag_Villain Protagonist                 5.72e+04   5.31e+04      1.077      0.281   -4.69e+04    1.61e+05\n",
      "tag_Violent                           -1.042e+05   1.26e+04     -8.277      0.000   -1.29e+05   -7.95e+04\n",
      "tag_Visual Novel                      -2.933e+04   1.49e+04     -1.968      0.049   -5.85e+04    -122.591\n",
      "tag_Voice Control                      1.069e+05   1.17e+05      0.917      0.359   -1.22e+05    3.35e+05\n",
      "tag_Voxel                             -1.371e+05   3.71e+04     -3.692      0.000    -2.1e+05   -6.43e+04\n",
      "tag_Walking Simulator                  5.036e+04   2.31e+04      2.176      0.030    5003.343    9.57e+04\n",
      "tag_War                               -2.176e+05   2.49e+04     -8.747      0.000   -2.66e+05   -1.69e+05\n",
      "tag_Wargame                           -2.044e+05   3.54e+04     -5.780      0.000   -2.74e+05   -1.35e+05\n",
      "tag_Warhammer 40K                     -1.481e+05   8.94e+04     -1.658      0.097   -3.23e+05     2.7e+04\n",
      "tag_Web Publishing                     9.081e+04   2.85e+04      3.181      0.001    3.49e+04    1.47e+05\n",
      "tag_Well-Written                       2.633e+06    1.8e+05     14.664      0.000    2.28e+06    2.98e+06\n",
      "tag_Werewolves                         1.338e+05   7.81e+04      1.712      0.087   -1.94e+04    2.87e+05\n",
      "tag_Western                           -5.566e+04   4.35e+04     -1.279      0.201   -1.41e+05    2.96e+04\n",
      "tag_Word Game                         -7933.1639   5.17e+04     -0.153      0.878   -1.09e+05    9.35e+04\n",
      "tag_World War I                       -2.542e+05   6.87e+04     -3.699      0.000   -3.89e+05   -1.19e+05\n",
      "tag_World War II                       4.224e+04   3.11e+04      1.357      0.175   -1.88e+04    1.03e+05\n",
      "tag_Wrestling                          2.259e+05   1.16e+05      1.954      0.051    -712.640    4.53e+05\n",
      "tag_Zombies                           -1.262e+04   1.88e+04     -0.672      0.502   -4.95e+04    2.42e+04\n",
      "tag_eSports                           -5.053e+04    4.4e+04     -1.148      0.251   -1.37e+05    3.58e+04\n",
      "price                                  -520.5594    168.650     -3.087      0.002    -851.117    -190.001\n",
      "discount                                 33.6544    183.744      0.183      0.855    -326.489     393.798\n",
      "years_since_release                    3.988e+04    834.323     47.799      0.000    3.82e+04    4.15e+04\n",
      "==============================================================================\n",
      "Omnibus:                    53038.691   Durbin-Watson:                   2.010\n",
      "Prob(Omnibus):                  0.000   Jarque-Bera (JB):         50544630.108\n",
      "Skew:                           7.621   Prob(JB):                         0.00\n",
      "Kurtosis:                     180.450   Cond. No.                     3.06e+03\n",
      "==============================================================================\n",
      "\n",
      "Notes:\n",
      "[1] Standard Errors assume that the covariance matrix of the errors is correctly specified.\n",
      "[2] The condition number is large, 3.06e+03. This might indicate that there are\n",
      "strong multicollinearity or other numerical problems.\n"
     ]
    }
   ],
   "source": [
    "# Training a linear regression model:\n",
    "x_train_c = sm.add_constant(x_train)\n",
    "x_test_c = sm.add_constant(x_test)\n",
    "model = sm.OLS(y_train, x_train_c).fit()\n",
    "pred = model.predict(x_test_c)\n",
    "print(\"RMSE:\", numpy.sqrt(mean_squared_error(y_test, pred)))\n",
    "print(games['estimated_players'].mean())\n",
    "model_summary = model.summary()\n",
    "print(model_summary)"
   ]
  },
  {
   "cell_type": "code",
   "execution_count": 32,
   "metadata": {},
   "outputs": [
    {
     "name": "stdout",
     "output_type": "stream",
     "text": [
      "Accuracy: 0.7121639995816337\n",
      "RMSE: 395865.3066748374\n",
      "140085.60109198166\n"
     ]
    }
   ],
   "source": [
    "# Training a Decision Tree Regressor: \n",
    "model2 = DecisionTreeRegressor(random_state=42)\n",
    "result2 = model2.fit(x_train, y_train)\n",
    "pred2 = result2.predict(x_test)\n",
    "print(\"Accuracy:\", accuracy_score(y_test, pred2))\n",
    "print(\"RMSE:\", numpy.sqrt(mean_squared_error(y_test, pred2)))\n",
    "print(games['estimated_players'].mean())\n",
    "# The accuracy for a decision tree regressor seems much better, but the RMSE got only very slightly better."
   ]
  },
  {
   "cell_type": "code",
   "execution_count": 33,
   "metadata": {},
   "outputs": [
    {
     "name": "stderr",
     "output_type": "stream",
     "text": [
      "<ipython-input-33-61283236ec7f>:3: DataConversionWarning: A column-vector y was passed when a 1d array was expected. Please change the shape of y to (n_samples,), for example using ravel().\n",
      "  result3 = model3.fit(x_train, y_train)\n"
     ]
    },
    {
     "name": "stdout",
     "output_type": "stream",
     "text": [
      "Accuracy: 0.6467898801521779\n",
      "RMSE: 301987.81776632695\n",
      "140085.60109198166\n"
     ]
    }
   ],
   "source": [
    "# Training a Random Forest Regressor:\n",
    "model3 = RandomForestRegressor(random_state=42)\n",
    "result3 = model3.fit(x_train, y_train)\n",
    "pred3 = result3.predict(x_test)\n",
    "print(\"Accuracy:\", result3.score(x_test, y_test))\n",
    "print(\"RMSE:\", numpy.sqrt(mean_squared_error(y_test, pred3)))\n",
    "print(games['estimated_players'].mean())\n",
    "# With the random tree regressor, though the accuracy got a bit worse, the RMSE improved quite a bit."
   ]
  },
  {
   "cell_type": "code",
   "execution_count": null,
   "metadata": {},
   "outputs": [],
   "source": [
    "# Training a multi layer Perceptron Regressor:\n",
    "from sklearn.neural_network import MLPRegressor\n",
    "multPerceptronReg = MLPRegressor(random_state=1, max_iter=500).fit(x_train, y_train)\n",
    "predperctron = multPerceptronReg.predict(x_test)\n",
    "print(\"Accuracy Mmultilayer Perceptron Regressor:\", multPerceptronReg.score(x_test, y_test))\n",
    "print(\"RMSE:\", numpy.sqrt(mean_squared_error(y_test, predperctron)))\n",
    "print(games['estimated_players'].mean())\n",
    "\n"
   ]
  },
  {
   "cell_type": "code",
   "execution_count": null,
   "outputs": [],
   "source": [
    "#Make Predictions with a Lasso\n",
    "import matplotlib\n",
    "import matplotlib.pyplot as plt\n",
    "from sklearn.linear_model import LassoCV\n",
    "lassoModel = LassoCV()\n",
    "lassoModel.fit(x_train, y_train)\n",
    "print(\"Best alpha using built-in LassoCV: %f\" % lassoModel.alpha_)\n",
    "print(\"Best score using built-in LassoCV: %f\" %lassoModel.score(x_test, y_test))\n",
    "coef = pandas.Series(lassoModel.coef_, index = x_train.columns)\n",
    "label_y_predict_lasso = lassoModel.predict(x_test)\n",
    "print(\"LassoCV choose \" + str(sum(coef != 0)) + \" variables and dropped the other \" +  str(sum(coef == 0)) + \" to zero a like.\")\n",
    "coeffs_sorted = coef.sort_values()\n",
    "matplotlib.rcParams['figure.figsize'] = (10.0, 12.0)\n",
    "coeffs_sorted[200:].plot(kind = \"barh\")\n",
    "plt.title(\"Features (variables) and its importance choosen by LassoCV\")"
   ],
   "metadata": {
    "collapsed": false,
    "pycharm": {
     "name": "#%%\n"
    }
   }
  },
  {
   "cell_type": "code",
   "execution_count": null,
   "outputs": [],
   "source": [
    "#Make Predictions using TPOT\n",
    "from tpot import TPOTRegressor\n",
    "tpot = TPOTRegressor()\n",
    "tpot.fit(x_train, y_train)\n",
    "print(\"Accuracy TPOT:\", tpot.score(x_test, y_test))\n"
   ],
   "metadata": {
    "collapsed": false,
    "pycharm": {
     "name": "#%%\n"
    }
   }
  }
 ],
 "metadata": {
  "kernelspec": {
   "display_name": "Python 3",
   "language": "python",
   "name": "python3"
  },
  "language_info": {
   "codemirror_mode": {
    "name": "ipython",
    "version": 3
   },
   "file_extension": ".py",
   "mimetype": "text/x-python",
   "name": "python",
   "nbconvert_exporter": "python",
   "pygments_lexer": "ipython3",
   "version": "3.8.3"
  },
  "pycharm": {
   "stem_cell": {
    "cell_type": "raw",
    "source": [],
    "metadata": {
     "collapsed": false
    }
   }
  }
 },
 "nbformat": 4,
 "nbformat_minor": 4
}