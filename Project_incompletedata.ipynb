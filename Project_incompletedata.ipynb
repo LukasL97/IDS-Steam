{
 "cells": [
  {
   "cell_type": "code",
   "execution_count": 82,
   "metadata": {},
   "outputs": [
    {
     "name": "stdout",
     "output_type": "stream",
     "text": [
      "    app_id                                               tags  \\\n",
      "1   536280  [FPS, PvE, Vehicular Combat, RTS, Shooter, Str...   \n",
      "2   982800  [Strategy, Simulation, Indie, Management, Sing...   \n",
      "3   767960  [Strategy, Indie, Education, RTS, Real-Time, S...   \n",
      "4  1368670  [Sports, Action, Arcade, Character Action Game...   \n",
      "5   977800  [Strategy, Adventure, Free to Play, RPG, Indie...   \n",
      "\n",
      "                                     reviews  \n",
      "1  {'overall': {'rating': 61, 'count': 120}}  \n",
      "2           {'overall': 'need_more_reviews'}  \n",
      "3           {'overall': 'need_more_reviews'}  \n",
      "4           {'overall': 'need_more_reviews'}  \n",
      "5           {'overall': 'need_more_reviews'}  \n",
      "(76227, 3)\n"
     ]
    }
   ],
   "source": [
    "import pandas\n",
    "import numpy\n",
    "\n",
    "data = pandas.read_json(\"db.json\")\n",
    "data = data.T\n",
    "print(data.head())\n",
    "print(data.shape)"
   ]
  },
  {
   "cell_type": "code",
   "execution_count": 83,
   "metadata": {},
   "outputs": [
    {
     "name": "stdout",
     "output_type": "stream",
     "text": [
      "    app_id                                               tags  \\\n",
      "1   536280  [FPS, PvE, Vehicular Combat, RTS, Shooter, Str...   \n",
      "2   982800  [Strategy, Simulation, Indie, Management, Sing...   \n",
      "3   767960  [Strategy, Indie, Education, RTS, Real-Time, S...   \n",
      "4  1368670  [Sports, Action, Arcade, Character Action Game...   \n",
      "5   977800  [Strategy, Adventure, Free to Play, RPG, Indie...   \n",
      "\n",
      "                        overall  \n",
      "1  {'rating': 61, 'count': 120}  \n",
      "2                           NaN  \n",
      "3                           NaN  \n",
      "4                           NaN  \n",
      "5                           NaN  \n"
     ]
    }
   ],
   "source": [
    "data.loc[(data['reviews'] == {'overall': 'need_more_reviews'}),'reviews'] = numpy.nan\n",
    "data = pandas.concat([data.drop(['reviews'], axis=1), data['reviews'].apply(pandas.Series)], axis=1)\n",
    "del data[0]\n",
    "del data[\"recent\"]\n",
    "print(data.head())"
   ]
  },
  {
   "cell_type": "code",
   "execution_count": 84,
   "metadata": {},
   "outputs": [
    {
     "name": "stdout",
     "output_type": "stream",
     "text": [
      "    app_id                                               tags  review_count  \\\n",
      "1   536280  [FPS, PvE, Vehicular Combat, RTS, Shooter, Str...         120.0   \n",
      "2   982800  [Strategy, Simulation, Indie, Management, Sing...           NaN   \n",
      "3   767960  [Strategy, Indie, Education, RTS, Real-Time, S...           NaN   \n",
      "4  1368670  [Sports, Action, Arcade, Character Action Game...           NaN   \n",
      "5   977800  [Strategy, Adventure, Free to Play, RPG, Indie...           NaN   \n",
      "\n",
      "   rating  \n",
      "1    61.0  \n",
      "2     NaN  \n",
      "3     NaN  \n",
      "4     NaN  \n",
      "5     NaN  \n"
     ]
    }
   ],
   "source": [
    "data = pandas.concat([data.drop(['overall'], axis=1), data['overall'].apply(pandas.Series)], axis=1)\n",
    "del data[0]\n",
    "data.rename(columns = {'count':'review_count'}, inplace = True)\n",
    "print(data.head())"
   ]
  },
  {
   "cell_type": "code",
   "execution_count": 85,
   "metadata": {},
   "outputs": [
    {
     "name": "stdout",
     "output_type": "stream",
     "text": [
      "    app_id  review_count  rating\n",
      "1   536280         120.0    61.0\n",
      "2   982800           NaN     NaN\n",
      "3   767960           NaN     NaN\n",
      "4  1368670           NaN     NaN\n",
      "5   977800           NaN     NaN\n",
      "   1980s  1990's  2.5D  2D  2D Fighter  2D Platformer  360 Video  3D  \\\n",
      "1      0       0     0   0           0              0          0   0   \n",
      "2      0       0     0   0           0              0          0   0   \n",
      "3      0       0     0   0           0              0          0   0   \n",
      "4      0       0     1   1           0              0          0   0   \n",
      "5      0       0     0   0           0              0          0   0   \n",
      "\n",
      "   3D Fighter  3D Platformer  ...  Web Publishing  Well-Written  Werewolves  \\\n",
      "1           0              0  ...               0             0           0   \n",
      "2           0              0  ...               0             0           0   \n",
      "3           0              0  ...               0             0           0   \n",
      "4           0              0  ...               0             0           0   \n",
      "5           0              0  ...               0             0           0   \n",
      "\n",
      "   Western  Word Game  World War I  World War II  Wrestling  Zombies  eSports  \n",
      "1        0          0            0             0          0        0        0  \n",
      "2        0          0            0             0          0        0        0  \n",
      "3        0          0            0             0          0        0        0  \n",
      "4        0          0            0             0          0        0        0  \n",
      "5        0          0            0             0          0        0        0  \n",
      "\n",
      "[5 rows x 422 columns]\n"
     ]
    }
   ],
   "source": [
    "# Splitting the dataset into two to make operations for tags easier:\n",
    "game_info = data.copy()\n",
    "del game_info['tags']\n",
    "tags = pandas.concat([data.drop(['tags'], axis=1), data['tags'].apply(pandas.Series)], axis=1)\n",
    "del tags['app_id']\n",
    "del tags['review_count']\n",
    "del tags['rating']\n",
    "# Creating a column for each tag:\n",
    "tags = pandas.get_dummies(tags)\n",
    "tags.rename(columns=lambda x: x.split(\"_\")[1], inplace=True)\n",
    "tags = tags.groupby(level=0, axis=1).sum()\n",
    "print(game_info.head())\n",
    "print(tags.head())"
   ]
  },
  {
   "cell_type": "code",
   "execution_count": 86,
   "metadata": {},
   "outputs": [
    {
     "name": "stdout",
     "output_type": "stream",
     "text": [
      "    app_id  review_count  rating  1980s  1990's  2.5D  2D  2D Fighter  \\\n",
      "1   536280         120.0    61.0      0       0     0   0           0   \n",
      "2   982800           NaN     NaN      0       0     0   0           0   \n",
      "3   767960           NaN     NaN      0       0     0   0           0   \n",
      "4  1368670           NaN     NaN      0       0     1   1           0   \n",
      "5   977800           NaN     NaN      0       0     0   0           0   \n",
      "\n",
      "   2D Platformer  360 Video  ...  Web Publishing  Well-Written  Werewolves  \\\n",
      "1              0          0  ...               0             0           0   \n",
      "2              0          0  ...               0             0           0   \n",
      "3              0          0  ...               0             0           0   \n",
      "4              0          0  ...               0             0           0   \n",
      "5              0          0  ...               0             0           0   \n",
      "\n",
      "   Western  Word Game  World War I  World War II  Wrestling  Zombies  eSports  \n",
      "1        0          0            0             0          0        0        0  \n",
      "2        0          0            0             0          0        0        0  \n",
      "3        0          0            0             0          0        0        0  \n",
      "4        0          0            0             0          0        0        0  \n",
      "5        0          0            0             0          0        0        0  \n",
      "\n",
      "[5 rows x 425 columns]\n",
      "(76227, 425)\n"
     ]
    }
   ],
   "source": [
    "# Merging the tables back together:\n",
    "games = game_info.merge(tags, left_index=True, right_index=True)\n",
    "print(games.head())\n",
    "print(games.shape)"
   ]
  },
  {
   "cell_type": "code",
   "execution_count": 87,
   "metadata": {},
   "outputs": [
    {
     "name": "stdout",
     "output_type": "stream",
     "text": [
      "1    1\n",
      "2    1\n",
      "3    1\n",
      "4    0\n",
      "5    1\n",
      "Name: Strategy, dtype: uint8\n"
     ]
    }
   ],
   "source": [
    "# Checking if the tags seem right for tag \"Strategy\":\n",
    "print(games[\"Strategy\"].head())\n",
    "# They seem to be right."
   ]
  },
  {
   "cell_type": "code",
   "execution_count": 88,
   "metadata": {},
   "outputs": [
    {
     "name": "stdout",
     "output_type": "stream",
     "text": [
      "app_id              0\n",
      "review_count    43746\n",
      "rating          43746\n",
      "1980s               0\n",
      "1990's              0\n",
      "                ...  \n",
      "World War I         0\n",
      "World War II        0\n",
      "Wrestling           0\n",
      "Zombies             0\n",
      "eSports             0\n",
      "Length: 425, dtype: int64\n"
     ]
    }
   ],
   "source": [
    "# Checking for nas:\n",
    "print(games.isnull().sum())\n",
    "# For more than half of the games review data is missing."
   ]
  },
  {
   "cell_type": "code",
   "execution_count": null,
   "metadata": {},
   "outputs": [],
   "source": []
  }
 ],
 "metadata": {
  "kernelspec": {
   "display_name": "Python 3",
   "language": "python",
   "name": "python3"
  },
  "language_info": {
   "codemirror_mode": {
    "name": "ipython",
    "version": 3
   },
   "file_extension": ".py",
   "mimetype": "text/x-python",
   "name": "python",
   "nbconvert_exporter": "python",
   "pygments_lexer": "ipython3",
   "version": "3.8.3"
  }
 },
 "nbformat": 4,
 "nbformat_minor": 4
}
