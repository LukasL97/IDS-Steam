{
 "cells": [
  {
   "cell_type": "code",
   "execution_count": 86,
   "metadata": {},
   "outputs": [
    {
     "name": "stdout",
     "output_type": "stream",
     "text": [
      "    app_id                               name          category  \\\n",
      "0   536280                     Disintegration      Action Games   \n",
      "1   982800                        Moon Tycoon  Simulation Games   \n",
      "2   767960                           Math RTS    Strategy Games   \n",
      "3  1368670  Beach Volleyball Competition 2020      Sports Games   \n",
      "4   977800          At Home Alone - Reward 5$   Adventure Games   \n",
      "\n",
      "                                                tags  \\\n",
      "0  [FPS, PvE, Vehicular Combat, RTS, Shooter, Str...   \n",
      "1  [Strategy, Simulation, Indie, Management, Sing...   \n",
      "2  [Strategy, Indie, Education, RTS, Real-Time, S...   \n",
      "3  [Sports, Action, Arcade, Character Action Game...   \n",
      "4  [Strategy, Adventure, Free to Play, RPG, Indie...   \n",
      "\n",
      "                                     reviews  \\\n",
      "0  {'overall': {'rating': 61, 'count': 120}}   \n",
      "1           {'overall': 'need_more_reviews'}   \n",
      "2           {'overall': 'need_more_reviews'}   \n",
      "3           {'overall': 'need_more_reviews'}   \n",
      "4           {'overall': 'need_more_reviews'}   \n",
      "\n",
      "                                         playtracker  \n",
      "0  {'popularity': 2, 'estimated_players': 159000,...  \n",
      "1                                                NaN  \n",
      "2                                                NaN  \n",
      "3                                                NaN  \n",
      "4                                                NaN  \n",
      "(76221, 6)\n"
     ]
    }
   ],
   "source": [
    "import pandas\n",
    "from tinydb import TinyDB\n",
    "import numpy\n",
    "import matplotlib.pyplot as mat\n",
    "import seaborn as sea\n",
    "from sklearn.model_selection import train_test_split\n",
    "from sklearn.linear_model import LinearRegression\n",
    "\n",
    "data = pandas.DataFrame(TinyDB('data/db/db.json').table('games').all())\n",
    "print(data.head())\n",
    "print(data.shape)"
   ]
  },
  {
   "cell_type": "code",
   "execution_count": 87,
   "metadata": {},
   "outputs": [
    {
     "name": "stdout",
     "output_type": "stream",
     "text": [
      "    app_id                               name          category  \\\n",
      "0   536280                     Disintegration      Action Games   \n",
      "1   982800                        Moon Tycoon  Simulation Games   \n",
      "2   767960                           Math RTS    Strategy Games   \n",
      "3  1368670  Beach Volleyball Competition 2020      Sports Games   \n",
      "4   977800          At Home Alone - Reward 5$   Adventure Games   \n",
      "\n",
      "                                                tags  \\\n",
      "0  [FPS, PvE, Vehicular Combat, RTS, Shooter, Str...   \n",
      "1  [Strategy, Simulation, Indie, Management, Sing...   \n",
      "2  [Strategy, Indie, Education, RTS, Real-Time, S...   \n",
      "3  [Sports, Action, Arcade, Character Action Game...   \n",
      "4  [Strategy, Adventure, Free to Play, RPG, Indie...   \n",
      "\n",
      "                                         playtracker  \\\n",
      "0  {'popularity': 2, 'estimated_players': 159000,...   \n",
      "1                                                NaN   \n",
      "2                                                NaN   \n",
      "3                                                NaN   \n",
      "4                                                NaN   \n",
      "\n",
      "                        overall  \n",
      "0  {'rating': 61, 'count': 120}  \n",
      "1                           NaN  \n",
      "2                           NaN  \n",
      "3                           NaN  \n",
      "4                           NaN  \n"
     ]
    }
   ],
   "source": [
    "# Replacing placeholder value in review data with NaN:\n",
    "data.loc[(data['reviews'] == {'overall': 'need_more_reviews'}),'reviews'] = numpy.nan\n",
    "# Splitting review data into overall and recent:\n",
    "data = pandas.concat([data.drop(['reviews'], axis=1), data['reviews'].apply(pandas.Series)], axis=1)\n",
    "del data[0]\n",
    "# Getting rid of recent review data as it is not needed:\n",
    "del data[\"recent\"]\n",
    "print(data.head())"
   ]
  },
  {
   "cell_type": "code",
   "execution_count": 88,
   "metadata": {},
   "outputs": [
    {
     "name": "stdout",
     "output_type": "stream",
     "text": [
      "    app_id                               name          category  \\\n",
      "0   536280                     Disintegration      Action Games   \n",
      "1   982800                        Moon Tycoon  Simulation Games   \n",
      "2   767960                           Math RTS    Strategy Games   \n",
      "3  1368670  Beach Volleyball Competition 2020      Sports Games   \n",
      "4   977800          At Home Alone - Reward 5$   Adventure Games   \n",
      "\n",
      "                                                tags  \\\n",
      "0  [FPS, PvE, Vehicular Combat, RTS, Shooter, Str...   \n",
      "1  [Strategy, Simulation, Indie, Management, Sing...   \n",
      "2  [Strategy, Indie, Education, RTS, Real-Time, S...   \n",
      "3  [Sports, Action, Arcade, Character Action Game...   \n",
      "4  [Strategy, Adventure, Free to Play, RPG, Indie...   \n",
      "\n",
      "                                         playtracker  review_count  rating  \n",
      "0  {'popularity': 2, 'estimated_players': 159000,...         120.0    61.0  \n",
      "1                                                NaN           NaN     NaN  \n",
      "2                                                NaN           NaN     NaN  \n",
      "3                                                NaN           NaN     NaN  \n",
      "4                                                NaN           NaN     NaN  \n"
     ]
    }
   ],
   "source": [
    "# Splitting overall review data into two columns:\n",
    "data = pandas.concat([data.drop(['overall'], axis=1), data['overall'].apply(pandas.Series)], axis=1)\n",
    "del data[0]\n",
    "data.rename(columns = {'count':'review_count'}, inplace = True)\n",
    "print(data.head())"
   ]
  },
  {
   "cell_type": "code",
   "execution_count": 89,
   "metadata": {},
   "outputs": [
    {
     "name": "stdout",
     "output_type": "stream",
     "text": [
      "    app_id                               name          category  \\\n",
      "0   536280                     Disintegration      Action Games   \n",
      "1   982800                        Moon Tycoon  Simulation Games   \n",
      "2   767960                           Math RTS    Strategy Games   \n",
      "3  1368670  Beach Volleyball Competition 2020      Sports Games   \n",
      "4   977800          At Home Alone - Reward 5$   Adventure Games   \n",
      "\n",
      "                                                tags  review_count  rating  \\\n",
      "0  [FPS, PvE, Vehicular Combat, RTS, Shooter, Str...         120.0    61.0   \n",
      "1  [Strategy, Simulation, Indie, Management, Sing...           NaN     NaN   \n",
      "2  [Strategy, Indie, Education, RTS, Real-Time, S...           NaN     NaN   \n",
      "3  [Sports, Action, Arcade, Character Action Game...           NaN     NaN   \n",
      "4  [Strategy, Adventure, Free to Play, RPG, Indie...           NaN     NaN   \n",
      "\n",
      "   average_playtime  estimated_active_players  estimated_players  popularity  \n",
      "0               0.6                   25000.0           159000.0         2.0  \n",
      "1               NaN                       NaN                NaN         NaN  \n",
      "2               NaN                       NaN                NaN         NaN  \n",
      "3               NaN                       NaN                NaN         NaN  \n",
      "4               NaN                       NaN                NaN         NaN  \n"
     ]
    }
   ],
   "source": [
    "# Splitting playtracker into multiple columns:\n",
    "data = pandas.concat([data.drop(['playtracker'], axis=1), data['playtracker'].apply(pandas.Series)], axis=1)\n",
    "del data[0]\n",
    "print(data.head())"
   ]
  },
  {
   "cell_type": "code",
   "execution_count": 90,
   "metadata": {},
   "outputs": [
    {
     "name": "stdout",
     "output_type": "stream",
     "text": [
      "    app_id                               name  \\\n",
      "0   536280                     Disintegration   \n",
      "1   982800                        Moon Tycoon   \n",
      "2   767960                           Math RTS   \n",
      "3  1368670  Beach Volleyball Competition 2020   \n",
      "4   977800          At Home Alone - Reward 5$   \n",
      "\n",
      "                                                tags  review_count  rating  \\\n",
      "0  [FPS, PvE, Vehicular Combat, RTS, Shooter, Str...         120.0    61.0   \n",
      "1  [Strategy, Simulation, Indie, Management, Sing...           NaN     NaN   \n",
      "2  [Strategy, Indie, Education, RTS, Real-Time, S...           NaN     NaN   \n",
      "3  [Sports, Action, Arcade, Character Action Game...           NaN     NaN   \n",
      "4  [Strategy, Adventure, Free to Play, RPG, Indie...           NaN     NaN   \n",
      "\n",
      "   average_playtime  estimated_active_players  estimated_players  popularity  \\\n",
      "0               0.6                   25000.0           159000.0         2.0   \n",
      "1               NaN                       NaN                NaN         NaN   \n",
      "2               NaN                       NaN                NaN         NaN   \n",
      "3               NaN                       NaN                NaN         NaN   \n",
      "4               NaN                       NaN                NaN         NaN   \n",
      "\n",
      "   category_- Arcane Raise -  ...  category_Violent Games  \\\n",
      "0                          0  ...                       0   \n",
      "1                          0  ...                       0   \n",
      "2                          0  ...                       0   \n",
      "3                          0  ...                       0   \n",
      "4                          0  ...                       0   \n",
      "\n",
      "   category_Warhammer Franchise  category_Web Publishing  \\\n",
      "0                             0                        0   \n",
      "1                             0                        0   \n",
      "2                             0                        0   \n",
      "3                             0                        0   \n",
      "4                             0                        0   \n",
      "\n",
      "   category_Web Publishing Games  category_Wing IDE 5  \\\n",
      "0                              0                    0   \n",
      "1                              0                    0   \n",
      "2                              0                    0   \n",
      "3                              0                    0   \n",
      "4                              0                    0   \n",
      "\n",
      "   category_Yomawari: Night Alone  category_Zenza  \\\n",
      "0                               0               0   \n",
      "1                               0               0   \n",
      "2                               0               0   \n",
      "3                               0               0   \n",
      "4                               0               0   \n",
      "\n",
      "   category_Zodiac Interactive Franchise  category_tinyBuild Franchise  \\\n",
      "0                                      0                             0   \n",
      "1                                      0                             0   \n",
      "2                                      0                             0   \n",
      "3                                      0                             0   \n",
      "4                                      0                             0   \n",
      "\n",
      "   category_unknown  \n",
      "0                 0  \n",
      "1                 0  \n",
      "2                 0  \n",
      "3                 0  \n",
      "4                 0  \n",
      "\n",
      "[5 rows x 124 columns]\n"
     ]
    }
   ],
   "source": [
    "# Splitting categories into multiple columns:\n",
    "cat = pandas.DataFrame(data[\"category\"])\n",
    "cat = pandas.get_dummies(cat)\n",
    "# Merging back together:\n",
    "del data[\"category\"]\n",
    "data = data.merge(cat, left_index=True, right_index=True)\n",
    "print(data.head())"
   ]
  },
  {
   "cell_type": "code",
   "execution_count": 98,
   "metadata": {
    "pycharm": {
     "is_executing": true
    }
   },
   "outputs": [
    {
     "name": "stdout",
     "output_type": "stream",
     "text": [
      "    app_id                               name  review_count  rating  \\\n",
      "0   536280                     Disintegration         120.0    61.0   \n",
      "1   982800                        Moon Tycoon           NaN     NaN   \n",
      "2   767960                           Math RTS           NaN     NaN   \n",
      "3  1368670  Beach Volleyball Competition 2020           NaN     NaN   \n",
      "4   977800          At Home Alone - Reward 5$           NaN     NaN   \n",
      "\n",
      "   average_playtime  estimated_active_players  estimated_players  popularity  \\\n",
      "0               0.6                   25000.0           159000.0         2.0   \n",
      "1               NaN                       NaN                NaN         NaN   \n",
      "2               NaN                       NaN                NaN         NaN   \n",
      "3               NaN                       NaN                NaN         NaN   \n",
      "4               NaN                       NaN                NaN         NaN   \n",
      "\n",
      "   category_- Arcane Raise -  category_Action  ...  category_Violent Games  \\\n",
      "0                          0                0  ...                       0   \n",
      "1                          0                0  ...                       0   \n",
      "2                          0                0  ...                       0   \n",
      "3                          0                0  ...                       0   \n",
      "4                          0                0  ...                       0   \n",
      "\n",
      "   category_Warhammer Franchise  category_Web Publishing  \\\n",
      "0                             0                        0   \n",
      "1                             0                        0   \n",
      "2                             0                        0   \n",
      "3                             0                        0   \n",
      "4                             0                        0   \n",
      "\n",
      "   category_Web Publishing Games  category_Wing IDE 5  \\\n",
      "0                              0                    0   \n",
      "1                              0                    0   \n",
      "2                              0                    0   \n",
      "3                              0                    0   \n",
      "4                              0                    0   \n",
      "\n",
      "   category_Yomawari: Night Alone  category_Zenza  \\\n",
      "0                               0               0   \n",
      "1                               0               0   \n",
      "2                               0               0   \n",
      "3                               0               0   \n",
      "4                               0               0   \n",
      "\n",
      "   category_Zodiac Interactive Franchise  category_tinyBuild Franchise  \\\n",
      "0                                      0                             0   \n",
      "1                                      0                             0   \n",
      "2                                      0                             0   \n",
      "3                                      0                             0   \n",
      "4                                      0                             0   \n",
      "\n",
      "   category_unknown  \n",
      "0                 0  \n",
      "1                 0  \n",
      "2                 0  \n",
      "3                 0  \n",
      "4                 0  \n",
      "\n",
      "[5 rows x 123 columns]\n",
      "   tag_1980s  tag_1990's  tag_2.5D  tag_2D  tag_2D Fighter  tag_2D Platformer  \\\n",
      "0          0           0         0       0               0                  0   \n",
      "1          0           0         0       0               0                  0   \n",
      "2          0           0         0       0               0                  0   \n",
      "3          0           0         1       1               0                  0   \n",
      "4          0           0         0       0               0                  0   \n",
      "\n",
      "   tag_360 Video  tag_3D  tag_3D Fighter  tag_3D Platformer  ...  \\\n",
      "0              0       0               0                  0  ...   \n",
      "1              0       0               0                  0  ...   \n",
      "2              0       0               0                  0  ...   \n",
      "3              0       0               0                  0  ...   \n",
      "4              0       0               0                  0  ...   \n",
      "\n",
      "   tag_Web Publishing  tag_Well-Written  tag_Werewolves  tag_Western  \\\n",
      "0                   0                 0               0            0   \n",
      "1                   0                 0               0            0   \n",
      "2                   0                 0               0            0   \n",
      "3                   0                 0               0            0   \n",
      "4                   0                 0               0            0   \n",
      "\n",
      "   tag_Word Game  tag_World War I  tag_World War II  tag_Wrestling  \\\n",
      "0              0                0                 0              0   \n",
      "1              0                0                 0              0   \n",
      "2              0                0                 0              0   \n",
      "3              0                0                 0              0   \n",
      "4              0                0                 0              0   \n",
      "\n",
      "   tag_Zombies  tag_eSports  \n",
      "0            0            0  \n",
      "1            0            0  \n",
      "2            0            0  \n",
      "3            0            0  \n",
      "4            0            0  \n",
      "\n",
      "[5 rows x 422 columns]\n"
     ]
    }
   ],
   "source": [
    "# Splitting the dataset into two to make operations for tags easier:\n",
    "game_info = data.copy()\n",
    "del game_info['tags']\n",
    "tags = pandas.DataFrame(data['tags'])\n",
    "# Creating a column for each tag:\n",
    "tags = pandas.concat([tags.drop(['tags'], axis=1), tags['tags'].apply(pandas.Series)], axis=1)\n",
    "tags = pandas.get_dummies(tags)\n",
    "tags.rename(columns=lambda x: x.split(\"_\")[1], inplace=True)\n",
    "tags.rename(columns=lambda x: 'tag_' + x, inplace=True)\n",
    "tags = tags.groupby(level=0, axis=1).sum()\n",
    "print(game_info.head())\n",
    "print(tags.head())"
   ]
  },
  {
   "cell_type": "code",
   "execution_count": 99,
   "metadata": {
    "pycharm": {
     "is_executing": true
    }
   },
   "outputs": [
    {
     "name": "stdout",
     "output_type": "stream",
     "text": [
      "    app_id                               name  review_count  rating  \\\n",
      "0   536280                     Disintegration         120.0    61.0   \n",
      "1   982800                        Moon Tycoon           NaN     NaN   \n",
      "2   767960                           Math RTS           NaN     NaN   \n",
      "3  1368670  Beach Volleyball Competition 2020           NaN     NaN   \n",
      "4   977800          At Home Alone - Reward 5$           NaN     NaN   \n",
      "\n",
      "   average_playtime  estimated_active_players  estimated_players  popularity  \\\n",
      "0               0.6                   25000.0           159000.0         2.0   \n",
      "1               NaN                       NaN                NaN         NaN   \n",
      "2               NaN                       NaN                NaN         NaN   \n",
      "3               NaN                       NaN                NaN         NaN   \n",
      "4               NaN                       NaN                NaN         NaN   \n",
      "\n",
      "   category_- Arcane Raise -  category_Action  ...  tag_Web Publishing  \\\n",
      "0                          0                0  ...                   0   \n",
      "1                          0                0  ...                   0   \n",
      "2                          0                0  ...                   0   \n",
      "3                          0                0  ...                   0   \n",
      "4                          0                0  ...                   0   \n",
      "\n",
      "   tag_Well-Written  tag_Werewolves  tag_Western  tag_Word Game  \\\n",
      "0                 0               0            0              0   \n",
      "1                 0               0            0              0   \n",
      "2                 0               0            0              0   \n",
      "3                 0               0            0              0   \n",
      "4                 0               0            0              0   \n",
      "\n",
      "   tag_World War I  tag_World War II  tag_Wrestling  tag_Zombies  tag_eSports  \n",
      "0                0                 0              0            0            0  \n",
      "1                0                 0              0            0            0  \n",
      "2                0                 0              0            0            0  \n",
      "3                0                 0              0            0            0  \n",
      "4                0                 0              0            0            0  \n",
      "\n",
      "[5 rows x 545 columns]\n",
      "(76221, 545)\n"
     ]
    }
   ],
   "source": [
    "# Merging the tables back together:\n",
    "games = game_info.merge(tags, left_index=True, right_index=True)\n",
    "print(games.head())\n",
    "print(games.shape)"
   ]
  },
  {
   "cell_type": "code",
   "execution_count": 100,
   "metadata": {
    "pycharm": {
     "is_executing": true
    }
   },
   "outputs": [
    {
     "name": "stdout",
     "output_type": "stream",
     "text": [
      "0    1\n",
      "1    1\n",
      "2    1\n",
      "3    0\n",
      "4    1\n",
      "Name: tag_Strategy, dtype: uint8\n"
     ]
    }
   ],
   "source": [
    "# Checking if the tags seem right for tag \"Strategy\":\n",
    "print(games[\"tag_Strategy\"].head())\n",
    "# They seem to be right."
   ]
  },
  {
   "cell_type": "code",
   "execution_count": 101,
   "metadata": {
    "pycharm": {
     "is_executing": true,
     "name": "#%%\n"
    }
   },
   "outputs": [
    {
     "name": "stdout",
     "output_type": "stream",
     "text": [
      "app_id                  0\n",
      "name                    0\n",
      "review_count        43741\n",
      "rating              43741\n",
      "average_playtime    56230\n",
      "                    ...  \n",
      "tag_World War I         0\n",
      "tag_World War II        0\n",
      "tag_Wrestling           0\n",
      "tag_Zombies             0\n",
      "tag_eSports             0\n",
      "Length: 545, dtype: int64\n"
     ]
    }
   ],
   "source": [
    "# Checking for nas:\n",
    "print(games.isnull().sum())\n",
    "# For more than half of the games review data is missing. For playtracker data even more."
   ]
  },
  {
   "cell_type": "code",
   "execution_count": 102,
   "metadata": {},
   "outputs": [
    {
     "name": "stdout",
     "output_type": "stream",
     "text": [
      "39154\n"
     ]
    }
   ],
   "source": [
    "# Investigating if nas in playtracker are in the same places as in review data:\n",
    "games['both_na'] = numpy.where(((games['estimated_players'].isnull()) & (games['rating'].isnull())), 1, 0)\n",
    "print(sum(games['both_na']))"
   ]
  },
  {
   "cell_type": "code",
   "execution_count": 103,
   "metadata": {},
   "outputs": [
    {
     "name": "stdout",
     "output_type": "stream",
     "text": [
      "app_id                  0\n",
      "name                    0\n",
      "review_count         4587\n",
      "rating               4587\n",
      "average_playtime    17076\n",
      "                    ...  \n",
      "tag_World War I         0\n",
      "tag_World War II        0\n",
      "tag_Wrestling           0\n",
      "tag_Zombies             0\n",
      "tag_eSports             0\n",
      "Length: 545, dtype: int64\n"
     ]
    }
   ],
   "source": [
    "# It can be concluded that those are games that do not have any players:\n",
    "games['estimated_players'] = games.apply(lambda x : x['estimated_players'] if x['both_na'] == 0 else 0, axis=1)\n",
    "games['estimated_active_players'] = games.apply(lambda x : x['estimated_active_players'] if x['both_na'] == 0 else 0, axis=1)\n",
    "games['average_playtime'] = games.apply(lambda x : x['average_playtime'] if x['both_na'] == 0 else 0, axis=1)\n",
    "games['popularity'] = games.apply(lambda x : x['popularity'] if x['both_na'] == 0 else 0.0, axis=1)\n",
    "games['rating'] = games.apply(lambda x : x['rating'] if x['both_na'] == 0 else 0.0, axis=1)\n",
    "games['review_count'] = games.apply(lambda x : x['review_count'] if x['both_na'] == 0 else 0.0, axis=1)\n",
    "del games['both_na']\n",
    "print(games.isnull().sum())\n",
    "# The quantity of nas was reduced by a considerable amount."
   ]
  },
  {
   "cell_type": "code",
   "execution_count": 109,
   "metadata": {},
   "outputs": [
    {
     "name": "stdout",
     "output_type": "stream",
     "text": [
      "(54558, 545)\n",
      "app_id              0\n",
      "name                0\n",
      "review_count        0\n",
      "rating              0\n",
      "average_playtime    0\n",
      "                   ..\n",
      "tag_World War I     0\n",
      "tag_World War II    0\n",
      "tag_Wrestling       0\n",
      "tag_Zombies         0\n",
      "tag_eSports         0\n",
      "Length: 545, dtype: int64\n"
     ]
    }
   ],
   "source": [
    "# Dropping the rows where 'estimated_players' is na as it is the variable we want to predict.\n",
    "games = games[games['estimated_players'].notna()]\n",
    "# Dropping the rows where 'rating' is na as well as those are online about 4500 and would hinder our predictions otherwise.\n",
    "games = games[games['rating'].notna()]\n",
    "print(games.shape)"
   ]
  },
  {
   "cell_type": "code",
   "execution_count": 110,
   "metadata": {},
   "outputs": [
    {
     "data": {
      "image/png": "[encoded data removed]",
      "text/plain": [
       "<Figure size 432x288 with 1 Axes>"
      ]
     },
     "metadata": {
      "needs_background": "light"
     },
     "output_type": "display_data"
    },
    {
     "name": "stdout",
     "output_type": "stream",
     "text": [
      "                      0\n",
      "tag_Indie         34730\n",
      "tag_Action        22772\n",
      "tag_Casual        19557\n",
      "tag_Adventure     19266\n",
      "tag_Simulation    13194\n",
      "...                 ...\n",
      "tag_ATV               6\n",
      "tag_Benchmark         4\n",
      "tag_Reboot            4\n",
      "tag_Breathtaking      3\n",
      "tag_Action RTS        2\n",
      "\n",
      "[422 rows x 1 columns]\n"
     ]
    }
   ],
   "source": [
    "# Counting the occurences of tags:\n",
    "tag_filter = [col for col in games if col.startswith('tag_')]\n",
    "tag_cols = games[tag_filter]\n",
    "tag_count = tag_cols.sum()\n",
    "tag_c = pandas.DataFrame(tag_count)\n",
    "tag_c = tag_c.sort_values(by=0, ascending=False)\n",
    "topten = tag_c.iloc[:10]\n",
    "topten[0].plot(kind='bar')\n",
    "mat.show()\n",
    "print(tag_c)"
   ]
  },
  {
   "cell_type": "code",
   "execution_count": 111,
   "metadata": {},
   "outputs": [
    {
     "data": {
      "image/png": "[encoded data removed]",
      "text/plain": [
       "<Figure size 432x288 with 1 Axes>"
      ]
     },
     "metadata": {
      "needs_background": "light"
     },
     "output_type": "display_data"
    },
    {
     "name": "stdout",
     "output_type": "stream",
     "text": [
      "                                               0\n",
      "category_Action Games                      13273\n",
      "category_Indie Games                       11293\n",
      "category_Casual Games                       6637\n",
      "category_Adventure Games                    6070\n",
      "category_RPG Games                          4093\n",
      "...                                          ...\n",
      "category_Call of Duty®: Modern Warfare® 3      0\n",
      "category_SteamWorld Heist                      0\n",
      "category_Shan Gui (山桂)                         0\n",
      "category_Risen 2: Dark Waters                  0\n",
      "category_RPG Maker VX Ace                      0\n",
      "\n",
      "[115 rows x 1 columns]\n"
     ]
    }
   ],
   "source": [
    "# Histogram of the 10 most common categories:\n",
    "cat_filter = [col for col in games if col.startswith('category_')]\n",
    "cat_cols = games[cat_filter]\n",
    "cat_count = cat_cols.sum()\n",
    "cat_c = pandas.DataFrame(cat_count)\n",
    "cat_c = cat_c.sort_values(by=0, ascending=False)\n",
    "top = cat_c.iloc[:10]\n",
    "top[0].plot(kind='bar')\n",
    "mat.show()\n",
    "print(cat_c)"
   ]
  },
  {
   "cell_type": "code",
   "execution_count": 112,
   "metadata": {},
   "outputs": [
    {
     "name": "stdout",
     "output_type": "stream",
     "text": [
      "       review_count  rating  average_playtime  popularity  \\\n",
      "427             0.0     0.0               0.0         0.0   \n",
      "26261           0.0     0.0               0.0         0.0   \n",
      "15398           0.0     0.0               0.0         0.0   \n",
      "69989          52.0    98.0               3.8         0.0   \n",
      "6378           49.0    89.0               2.1         0.0   \n",
      "\n",
      "       category_- Arcane Raise -  category_Action  category_Action Games  \\\n",
      "427                            0                0                      0   \n",
      "26261                          0                0                      0   \n",
      "15398                          0                0                      0   \n",
      "69989                          0                0                      0   \n",
      "6378                           0                0                      0   \n",
      "\n",
      "       category_Adventure  category_Adventure Games  \\\n",
      "427                     0                         1   \n",
      "26261                   0                         1   \n",
      "15398                   0                         0   \n",
      "69989                   0                         0   \n",
      "6378                    0                         0   \n",
      "\n",
      "       category_Alien: Isolation  ...  tag_Web Publishing  tag_Well-Written  \\\n",
      "427                            0  ...                   0                 0   \n",
      "26261                          0  ...                   0                 0   \n",
      "15398                          0  ...                   0                 0   \n",
      "69989                          0  ...                   0                 0   \n",
      "6378                           0  ...                   0                 0   \n",
      "\n",
      "       tag_Werewolves  tag_Western  tag_Word Game  tag_World War I  \\\n",
      "427                 0            0              0                0   \n",
      "26261               0            0              0                0   \n",
      "15398               0            0              0                0   \n",
      "69989               0            0              0                0   \n",
      "6378                0            0              0                0   \n",
      "\n",
      "       tag_World War II  tag_Wrestling  tag_Zombies  tag_eSports  \n",
      "427                   0              0            0            0  \n",
      "26261                 0              0            0            0  \n",
      "15398                 0              0            0            0  \n",
      "69989                 0              0            0            0  \n",
      "6378                  0              0            0            0  \n",
      "\n",
      "[5 rows x 541 columns]\n",
      "       estimated_players\n",
      "427                  0.0\n",
      "26261                0.0\n",
      "15398                0.0\n",
      "69989            45000.0\n",
      "6378             29000.0\n",
      "       review_count  rating  average_playtime  popularity  \\\n",
      "56197           0.0     0.0               0.0         0.0   \n",
      "10661          17.0    70.0               0.7         1.0   \n",
      "17722           0.0     0.0               0.0         0.0   \n",
      "57428           0.0     0.0               0.0         0.0   \n",
      "60929           0.0     0.0               0.0         0.0   \n",
      "\n",
      "       category_- Arcane Raise -  category_Action  category_Action Games  \\\n",
      "56197                          0                0                      1   \n",
      "10661                          0                0                      0   \n",
      "17722                          0                0                      1   \n",
      "57428                          0                0                      0   \n",
      "60929                          0                0                      1   \n",
      "\n",
      "       category_Adventure  category_Adventure Games  \\\n",
      "56197                   0                         0   \n",
      "10661                   0                         0   \n",
      "17722                   0                         0   \n",
      "57428                   0                         0   \n",
      "60929                   0                         0   \n",
      "\n",
      "       category_Alien: Isolation  ...  tag_Web Publishing  tag_Well-Written  \\\n",
      "56197                          0  ...                   0                 0   \n",
      "10661                          0  ...                   0                 0   \n",
      "17722                          0  ...                   0                 0   \n",
      "57428                          0  ...                   0                 0   \n",
      "60929                          0  ...                   0                 0   \n",
      "\n",
      "       tag_Werewolves  tag_Western  tag_Word Game  tag_World War I  \\\n",
      "56197               0            0              0                0   \n",
      "10661               0            0              0                0   \n",
      "17722               0            0              0                0   \n",
      "57428               0            0              0                0   \n",
      "60929               0            0              0                0   \n",
      "\n",
      "       tag_World War II  tag_Wrestling  tag_Zombies  tag_eSports  \n",
      "56197                 0              0            0            0  \n",
      "10661                 0              0            0            0  \n",
      "17722                 0              0            0            0  \n",
      "57428                 0              0            0            0  \n",
      "60929                 0              0            0            0  \n",
      "\n",
      "[5 rows x 541 columns]\n",
      "       estimated_players\n",
      "56197                0.0\n",
      "10661           114000.0\n",
      "17722                0.0\n",
      "57428                0.0\n",
      "60929                0.0\n"
     ]
    },
    {
     "ename": "LinAlgError",
     "evalue": "SVD did not converge in Linear Least Squares",
     "output_type": "error",
     "traceback": [
      "\u001b[1;31m---------------------------------------------------------------------------\u001b[0m",
      "\u001b[1;31mLinAlgError\u001b[0m                               Traceback (most recent call last)",
      "\u001b[1;32m<ipython-input-112-b26e902e802a>\u001b[0m in \u001b[0;36m<module>\u001b[1;34m\u001b[0m\n\u001b[0;32m     12\u001b[0m \u001b[0mprint\u001b[0m\u001b[1;33m(\u001b[0m\u001b[0my_test\u001b[0m\u001b[1;33m.\u001b[0m\u001b[0mhead\u001b[0m\u001b[1;33m(\u001b[0m\u001b[1;33m)\u001b[0m\u001b[1;33m)\u001b[0m\u001b[1;33m\u001b[0m\u001b[1;33m\u001b[0m\u001b[0m\n\u001b[0;32m     13\u001b[0m \u001b[0mmodel\u001b[0m \u001b[1;33m=\u001b[0m \u001b[0mLinearRegression\u001b[0m\u001b[1;33m(\u001b[0m\u001b[1;33m)\u001b[0m\u001b[1;33m\u001b[0m\u001b[1;33m\u001b[0m\u001b[0m\n\u001b[1;32m---> 14\u001b[1;33m \u001b[0mmodel\u001b[0m\u001b[1;33m.\u001b[0m\u001b[0mfit\u001b[0m\u001b[1;33m(\u001b[0m\u001b[0mx_train\u001b[0m\u001b[1;33m,\u001b[0m \u001b[0my_train\u001b[0m\u001b[1;33m)\u001b[0m\u001b[1;33m\u001b[0m\u001b[1;33m\u001b[0m\u001b[0m\n\u001b[0m",
      "\u001b[1;32m~\\AppData\\Roaming\\Python\\Python38\\site-packages\\sklearn\\linear_model\\_base.py\u001b[0m in \u001b[0;36mfit\u001b[1;34m(self, X, y, sample_weight)\u001b[0m\n\u001b[0;32m    545\u001b[0m         \u001b[1;32melse\u001b[0m\u001b[1;33m:\u001b[0m\u001b[1;33m\u001b[0m\u001b[1;33m\u001b[0m\u001b[0m\n\u001b[0;32m    546\u001b[0m             \u001b[0mself\u001b[0m\u001b[1;33m.\u001b[0m\u001b[0mcoef_\u001b[0m\u001b[1;33m,\u001b[0m \u001b[0mself\u001b[0m\u001b[1;33m.\u001b[0m\u001b[0m_residues\u001b[0m\u001b[1;33m,\u001b[0m \u001b[0mself\u001b[0m\u001b[1;33m.\u001b[0m\u001b[0mrank_\u001b[0m\u001b[1;33m,\u001b[0m \u001b[0mself\u001b[0m\u001b[1;33m.\u001b[0m\u001b[0msingular_\u001b[0m \u001b[1;33m=\u001b[0m\u001b[0;31m \u001b[0m\u001b[0;31m\\\u001b[0m\u001b[1;33m\u001b[0m\u001b[1;33m\u001b[0m\u001b[0m\n\u001b[1;32m--> 547\u001b[1;33m                 \u001b[0mlinalg\u001b[0m\u001b[1;33m.\u001b[0m\u001b[0mlstsq\u001b[0m\u001b[1;33m(\u001b[0m\u001b[0mX\u001b[0m\u001b[1;33m,\u001b[0m \u001b[0my\u001b[0m\u001b[1;33m)\u001b[0m\u001b[1;33m\u001b[0m\u001b[1;33m\u001b[0m\u001b[0m\n\u001b[0m\u001b[0;32m    548\u001b[0m             \u001b[0mself\u001b[0m\u001b[1;33m.\u001b[0m\u001b[0mcoef_\u001b[0m \u001b[1;33m=\u001b[0m \u001b[0mself\u001b[0m\u001b[1;33m.\u001b[0m\u001b[0mcoef_\u001b[0m\u001b[1;33m.\u001b[0m\u001b[0mT\u001b[0m\u001b[1;33m\u001b[0m\u001b[1;33m\u001b[0m\u001b[0m\n\u001b[0;32m    549\u001b[0m \u001b[1;33m\u001b[0m\u001b[0m\n",
      "\u001b[1;32m~\\AppData\\Roaming\\Python\\Python38\\site-packages\\scipy\\linalg\\basic.py\u001b[0m in \u001b[0;36mlstsq\u001b[1;34m(a, b, cond, overwrite_a, overwrite_b, check_finite, lapack_driver)\u001b[0m\n\u001b[0;32m   1219\u001b[0m                                                cond, False, False)\n\u001b[0;32m   1220\u001b[0m         \u001b[1;32mif\u001b[0m \u001b[0minfo\u001b[0m \u001b[1;33m>\u001b[0m \u001b[1;36m0\u001b[0m\u001b[1;33m:\u001b[0m\u001b[1;33m\u001b[0m\u001b[1;33m\u001b[0m\u001b[0m\n\u001b[1;32m-> 1221\u001b[1;33m             \u001b[1;32mraise\u001b[0m \u001b[0mLinAlgError\u001b[0m\u001b[1;33m(\u001b[0m\u001b[1;34m\"SVD did not converge in Linear Least Squares\"\u001b[0m\u001b[1;33m)\u001b[0m\u001b[1;33m\u001b[0m\u001b[1;33m\u001b[0m\u001b[0m\n\u001b[0m\u001b[0;32m   1222\u001b[0m         \u001b[1;32mif\u001b[0m \u001b[0minfo\u001b[0m \u001b[1;33m<\u001b[0m \u001b[1;36m0\u001b[0m\u001b[1;33m:\u001b[0m\u001b[1;33m\u001b[0m\u001b[1;33m\u001b[0m\u001b[0m\n\u001b[0;32m   1223\u001b[0m             raise ValueError('illegal value in %d-th argument of internal %s'\n",
      "\u001b[1;31mLinAlgError\u001b[0m: SVD did not converge in Linear Least Squares"
     ]
    }
   ],
   "source": [
    "# Splitting the data into train and test:\n",
    "x = games.copy()\n",
    "del x['app_id']\n",
    "del x['name']\n",
    "del x['estimated_players']\n",
    "del x['estimated_active_players']\n",
    "y = pandas.DataFrame(games['estimated_players'])\n",
    "x_train, x_test, y_train, y_test = train_test_split(x, y, train_size=0.8, random_state = 42, shuffle=True) \n",
    "print(x_train.head())\n",
    "print(y_train.head())\n",
    "print(x_test.head())\n",
    "print(y_test.head())\n",
    "model = LinearRegression()\n",
    "model.fit(x_train, y_train)"
   ]
  },
  {
   "cell_type": "code",
   "execution_count": null,
   "metadata": {},
   "outputs": [],
   "source": []
  }
 ],
 "metadata": {
  "kernelspec": {
   "display_name": "Python 3",
   "language": "python",
   "name": "python3"
  },
  "language_info": {
   "codemirror_mode": {
    "name": "ipython",
    "version": 3
   },
   "file_extension": ".py",
   "mimetype": "text/x-python",
   "name": "python",
   "nbconvert_exporter": "python",
   "pygments_lexer": "ipython3",
   "version": "3.8.3"
  }
 },
 "nbformat": 4,
 "nbformat_minor": 4
}
